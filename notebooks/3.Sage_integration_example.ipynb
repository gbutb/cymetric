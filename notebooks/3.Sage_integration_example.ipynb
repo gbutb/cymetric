{
 "cells": [
  {
   "cell_type": "markdown",
   "metadata": {},
   "source": [
    "# Example: Random KS model (we just take any with Picard Rank 2)"
   ]
  },
  {
   "cell_type": "code",
   "execution_count": 1,
   "metadata": {},
   "outputs": [],
   "source": [
    "# some general packages\n",
    "import numpy as np\n",
    "import os\n",
    "import pickle\n",
    "\n",
    "# ML packages\n",
    "import tensorflow as tf\n",
    "\n",
    "# data generation\n",
    "from cymetric.pointgen.pointgen_mathematica import ToricPointGeneratorMathematica\n",
    "from cymetric.pointgen.nphelper import prepare_dataset, prepare_basis_pickle\n",
    "from cymetric.models.tfhelper import prepare_tf_basis, train_model\n",
    "\n",
    "# training\n",
    "from cymetric.models.tfmodels import PhiFSModelToric\n",
    "from cymetric.models.callbacks import SigmaCallback, TransitionCallback, RicciCallback, VolkCallback\n",
    "from cymetric.models.metrics import SigmaLoss, TransitionLoss, RicciLoss, VolkLoss\n",
    "from cymetric.models.measures import sigma_measure, transition_measure_loss, ricci_measure"
   ]
  },
  {
   "cell_type": "markdown",
   "metadata": {},
   "source": [
    "## Compute toric information"
   ]
  },
  {
   "cell_type": "code",
   "execution_count": 2,
   "metadata": {},
   "outputs": [
    {
     "data": {
      "text/plain": [
       "['dim_cy',\n",
       " 'vol_j_norm',\n",
       " 'coeff_aK',\n",
       " 'exp_aK',\n",
       " 'exps_sections',\n",
       " 'patch_masks',\n",
       " 'glsm_charges',\n",
       " 'non_ci_coeffs',\n",
       " 'non_ci_exps',\n",
       " 'int_nums']"
      ]
     },
     "execution_count": 2,
     "metadata": {},
     "output_type": "execute_result"
    }
   ],
   "source": [
    "from cymetric.sage.sagelib import prepare_toric_cy_data\n",
    "\n",
    "work_dir = \"./ToricModel\"\n",
    "vertices = [[1, 0, 0, 0], [0, 1, 0, 0], [0, 0, 1, 0], [0, 0, 0, 1], [-1, -1, -1, 0], [2, 0, 0, -1]]  # P2 fibered over P2\n",
    "polytope = LatticePolytope(vertices)\n",
    "pConfig = PointConfiguration(polytope.points(), star=[0 for _ in range(len(vertices[0]))])\n",
    "triangs = pConfig.restrict_to_connected_triangulations().restrict_to_fine_triangulations().restrict_to_regular_triangulations().restrict_to_star_triangulations([0 for _ in range(len(vertices[0]))]).triangulations_list()\n",
    "triang = triangs[0]\n",
    "tv_fan = triang.fan()\n",
    "tv = ToricVariety(tv_fan)\n",
    "\n",
    "toric_data = prepare_toric_cy_data(tv, os.path.join(work_dir, \"toric_data.pickle\"))\n",
    "list(toric_data.keys())"
   ]
  },
  {
   "cell_type": "markdown",
   "metadata": {},
   "source": [
    "## Generate points"
   ]
  },
  {
   "cell_type": "code",
   "execution_count": 3,
   "metadata": {},
   "outputs": [],
   "source": [
    "work_dir = \"./ToricModel\"\n",
    "with open(os.path.join(work_dir, 'toric_data.pickle'), 'rb') as f:\n",
    "    toric_data = pickle.load(f)\n",
    "num_pts       = int(50000)\n",
    "precision     = int(10)\n",
    "verbose       = int(1)\n",
    "kmoduli       = np.ones(len(toric_data['exps_sections']))"
   ]
  },
  {
   "cell_type": "code",
   "execution_count": 4,
   "metadata": {},
   "outputs": [],
   "source": [
    "mathematica_pointgen = ToricPointGeneratorMathematica(toric_data, kmoduli, precision=precision, verbose=verbose)"
   ]
  },
  {
   "cell_type": "code",
   "execution_count": 5,
   "metadata": {},
   "outputs": [
    {
     "name": "stderr",
     "output_type": "stream",
     "text": [
      "WolframKernel-<tcp://127.0.0.1:49820>:INFO:Connected to logging socket: tcp://127.0.0.1:49820\n",
      "WolframKernel-<tcp://127.0.0.1:49820>:DEBUG:Evaluating a new expression.\n",
      "pointgenMathematica:DEBUG:Running with 6 Mathematica kernels.\n",
      "pointgenMathematica:DEBUG:Initializing generation of 50000 points...\n",
      "WolframKernel-<tcp://127.0.0.1:49820>:INFO:Number of points on CY from one ambient space intersection: 4\n",
      "WolframKernel-<tcp://127.0.0.1:49820>:INFO:Now generating 50000 points...\n",
      "WolframKernel-<tcp://127.0.0.1:49820>:INFO:Generated 0% of points\n",
      "WolframKernel-<tcp://127.0.0.1:49820>:INFO:Generated 5% of points\n",
      "WolframKernel-<tcp://127.0.0.1:49820>:INFO:Generated 10% of points\n",
      "WolframKernel-<tcp://127.0.0.1:49820>:INFO:Generated 15% of points\n",
      "WolframKernel-<tcp://127.0.0.1:49820>:INFO:Generated 20% of points\n",
      "WolframKernel-<tcp://127.0.0.1:49820>:INFO:Generated 25% of points\n",
      "WolframKernel-<tcp://127.0.0.1:49820>:INFO:Generated 30% of points\n",
      "WolframKernel-<tcp://127.0.0.1:49820>:INFO:Generated 35% of points\n",
      "WolframKernel-<tcp://127.0.0.1:49820>:INFO:Generated 40% of points\n",
      "WolframKernel-<tcp://127.0.0.1:49820>:INFO:Generated 45% of points\n",
      "WolframKernel-<tcp://127.0.0.1:49820>:INFO:Generated 50% of points\n",
      "WolframKernel-<tcp://127.0.0.1:49820>:INFO:Generated 55% of points\n",
      "WolframKernel-<tcp://127.0.0.1:49820>:INFO:Generated 60% of points\n",
      "WolframKernel-<tcp://127.0.0.1:49820>:INFO:Generated 65% of points\n",
      "WolframKernel-<tcp://127.0.0.1:49820>:INFO:Generated 70% of points\n",
      "WolframKernel-<tcp://127.0.0.1:49820>:INFO:Generated 75% of points\n",
      "WolframKernel-<tcp://127.0.0.1:49820>:INFO:Generated 80% of points\n",
      "WolframKernel-<tcp://127.0.0.1:49820>:INFO:Generated 85% of points\n",
      "WolframKernel-<tcp://127.0.0.1:49820>:INFO:Generated 90% of points\n",
      "WolframKernel-<tcp://127.0.0.1:49820>:INFO:Generated 95% of points\n",
      "WolframKernel-<tcp://127.0.0.1:49820>:INFO:done.\n",
      "/Users/ruehle/venv-ml/lib/python3.8/site-packages/numpy/linalg/linalg.py:2146: RuntimeWarning: divide by zero encountered in det\n",
      "  r = _umath_linalg.det(a, signature=signature)\n",
      "/Users/ruehle/venv-ml/lib/python3.8/site-packages/numpy/linalg/linalg.py:2146: RuntimeWarning: invalid value encountered in det\n",
      "  r = _umath_linalg.det(a, signature=signature)\n"
     ]
    }
   ],
   "source": [
    "kappa = mathematica_pointgen.prepare_dataset(num_pts, work_dir)\n",
    "prepare_basis_pickle(mathematica_pointgen, work_dir, kappa);"
   ]
  },
  {
   "cell_type": "markdown",
   "metadata": {},
   "source": [
    "## set up NN"
   ]
  },
  {
   "cell_type": "markdown",
   "metadata": {},
   "source": [
    "load in data"
   ]
  },
  {
   "cell_type": "code",
   "execution_count": 6,
   "metadata": {},
   "outputs": [],
   "source": [
    "tf.get_logger().setLevel('ERROR')\n",
    "data = np.load(os.path.join(work_dir, 'dataset.npz'))\n",
    "toric_data = np.load(os.path.join(work_dir, 'toric_data.pickle'), allow_pickle=True)\n",
    "BASIS = prepare_tf_basis(np.load(os.path.join(work_dir, 'basis.pickle'), allow_pickle=True))"
   ]
  },
  {
   "cell_type": "markdown",
   "metadata": {},
   "source": [
    "set up NN callbacks (info on training process)"
   ]
  },
  {
   "cell_type": "code",
   "execution_count": 7,
   "metadata": {},
   "outputs": [],
   "source": [
    "scb = SigmaCallback((data['X_val'], data['y_val']))\n",
    "rcb = RicciCallback((data['X_val'], data['y_val']), data['val_pullbacks'])\n",
    "volkck = VolkCallback((data['X_val'], data['y_val']))\n",
    "cb_list = [scb, volkck, rcb]\n",
    "\n",
    "cmetrics = [SigmaLoss(), VolkLoss()]"
   ]
  },
  {
   "cell_type": "markdown",
   "metadata": {},
   "source": [
    "define the NN hyperparameters (wrapping everything in int() and float() is necessary in sage)"
   ]
  },
  {
   "cell_type": "code",
   "execution_count": 8,
   "metadata": {},
   "outputs": [],
   "source": [
    "nfold       = int(BASIS['NFOLD'].numpy().real)\n",
    "amb         = [int(6)]\n",
    "n_in        = int(12)\n",
    "n_out       = int(1)\n",
    "n_hiddens   = [int(64), int(64), int(64)]\n",
    "acts        = ['gelu', 'gelu', 'gelu']\n",
    "n_epochs    = int(30)\n",
    "batch_sizes = [int(64), int(40000)]\n",
    "alpha       = [float(1.), float(1.), float(1.), float(1.), float(1.)]"
   ]
  },
  {
   "cell_type": "markdown",
   "metadata": {},
   "source": [
    "initialize the NN and the Toric Phi Model"
   ]
  },
  {
   "cell_type": "code",
   "execution_count": 9,
   "metadata": {},
   "outputs": [],
   "source": [
    "model = tf.keras.Sequential()\n",
    "model.add(tf.keras.Input(shape=(int(n_in))))\n",
    "for n_hidden, act in zip(n_hiddens, acts):\n",
    "    model.add(tf.keras.layers.Dense(n_hidden, activation=act))\n",
    "model.add(tf.keras.layers.Dense(n_out, use_bias=False))\n",
    "\n",
    "fs_model = PhiFSModelToric(model, BASIS, alpha=alpha, toric_data=toric_data)"
   ]
  },
  {
   "cell_type": "markdown",
   "metadata": {},
   "source": [
    "## train NN"
   ]
  },
  {
   "cell_type": "code",
   "execution_count": 10,
   "metadata": {
    "scrolled": true
   },
   "outputs": [
    {
     "name": "stdout",
     "output_type": "stream",
     "text": [
      "Epoch  1/30\n"
     ]
    },
    {
     "name": "stderr",
     "output_type": "stream",
     "text": [
      "2022-04-04 15:54:30.353587: W tensorflow/core/platform/profile_utils/cpu_utils.cc:128] Failed to get CPU frequency: 0 Hz\n"
     ]
    },
    {
     "name": "stdout",
     "output_type": "stream",
     "text": [
      " - Sigma measure val:      0.4870\n",
      " - Volk val:               23.2764\n",
      " - Ricci measure val:      8.3826\n",
      "701/704 [============================>.] - ETA: 0s - sigma_loss: 0.3601 - volk_loss: 0.0000e+00 - Sigma measure val:      0.3812\n",
      " - Volk val:               14.7579\n",
      " - Ricci measure val:      6.9053\n",
      "704/704 [==============================] - 24s 27ms/step - sigma_loss: 0.3599 - volk_loss: 0.0000e+00 - sigma_val: 0.3812 - volk_val: 14.7579 - ricci_val: 6.9053\n",
      " - Sigma measure val:      0.3812\n",
      " - Volk val:               14.7579\n",
      " - Ricci measure val:      6.9053\n"
     ]
    },
    {
     "name": "stderr",
     "output_type": "stream",
     "text": [
      "/Users/ruehle/venv-ml/lib/python3.8/site-packages/tensorflow/python/framework/indexed_slices.py:448: UserWarning: Converting sparse IndexedSlices(IndexedSlices(indices=Tensor(\"gradients/while_grad/gradients/while/PartitionedCall_grad/PartitionedCall:2\", shape=(None,), dtype=int64), values=Tensor(\"gradients/while_grad/gradients/while/PartitionedCall_grad/PartitionedCall:1\", shape=(None, 90, 6), dtype=complex64), dense_shape=Tensor(\"gradients/while_grad/gradients/while/PartitionedCall_grad/PartitionedCall:3\", shape=(3,), dtype=int64))) to a dense Tensor of unknown shape. This may consume a large amount of memory.\n",
      "  warnings.warn(\n",
      "/Users/ruehle/venv-ml/lib/python3.8/site-packages/tensorflow/python/framework/indexed_slices.py:448: UserWarning: Converting sparse IndexedSlices(IndexedSlices(indices=Tensor(\"gradients/while_grad/gradients/while/PartitionedCall_grad/PartitionedCall:5\", shape=(None,), dtype=int64), values=Tensor(\"gradients/while_grad/gradients/while/PartitionedCall_grad/PartitionedCall:4\", shape=(None, 90), dtype=complex64), dense_shape=Tensor(\"gradients/while_grad/gradients/while/PartitionedCall_grad/PartitionedCall:6\", shape=(2,), dtype=int64))) to a dense Tensor of unknown shape. This may consume a large amount of memory.\n",
      "  warnings.warn(\n",
      "/Users/ruehle/venv-ml/lib/python3.8/site-packages/tensorflow/python/framework/indexed_slices.py:448: UserWarning: Converting sparse IndexedSlices(IndexedSlices(indices=Tensor(\"gradients/PartitionedCall_grad/PartitionedCall_40:2\", shape=(None,), dtype=int64), values=Tensor(\"gradients/PartitionedCall_grad/PartitionedCall_40:1\", shape=(None, 90, 6), dtype=complex64), dense_shape=Tensor(\"gradients/PartitionedCall_grad/PartitionedCall_40:3\", shape=(3,), dtype=int64))) to a dense Tensor of unknown shape. This may consume a large amount of memory.\n",
      "  warnings.warn(\n",
      "/Users/ruehle/venv-ml/lib/python3.8/site-packages/tensorflow/python/framework/indexed_slices.py:448: UserWarning: Converting sparse IndexedSlices(IndexedSlices(indices=Tensor(\"gradients/PartitionedCall_grad/PartitionedCall_40:5\", shape=(None,), dtype=int64), values=Tensor(\"gradients/PartitionedCall_grad/PartitionedCall_40:4\", shape=(None, 90), dtype=complex64), dense_shape=Tensor(\"gradients/PartitionedCall_grad/PartitionedCall_40:6\", shape=(2,), dtype=int64))) to a dense Tensor of unknown shape. This may consume a large amount of memory.\n",
      "  warnings.warn(\n"
     ]
    },
    {
     "name": "stdout",
     "output_type": "stream",
     "text": [
      "2/2 [==============================] - ETA: 0s - sigma_loss: 0.3069 - volk_loss: 6.1643 - Sigma measure val:      0.3807\n",
      " - Volk val:               13.8104\n",
      " - Ricci measure val:      6.8226\n",
      "2/2 [==============================] - 16s 6s/step - sigma_loss: 0.3069 - volk_loss: 6.1643 - sigma_val: 0.3807 - volk_val: 13.8104 - ricci_val: 6.8226\n",
      "Epoch  2/30\n",
      " - Sigma measure val:      0.3807\n",
      " - Volk val:               13.8104\n",
      " - Ricci measure val:      6.8226\n",
      "701/704 [============================>.] - ETA: 0s - sigma_loss: 0.2999 - volk_loss: 0.0000e+00 - Sigma measure val:      0.3613\n",
      " - Volk val:               14.7085\n",
      " - Ricci measure val:      6.8002\n",
      "704/704 [==============================] - 18s 22ms/step - sigma_loss: 0.2997 - volk_loss: 0.0000e+00 - sigma_val: 0.3613 - volk_val: 14.7085 - ricci_val: 6.8002\n",
      " - Sigma measure val:      0.3613\n",
      " - Volk val:               14.7085\n",
      " - Ricci measure val:      6.8002\n",
      "2/2 [==============================] - ETA: 0s - sigma_loss: 0.2822 - volk_loss: 6.2366 - Sigma measure val:      0.3621\n",
      " - Volk val:               14.7768\n",
      " - Ricci measure val:      6.7584\n",
      "2/2 [==============================] - 14s 7s/step - sigma_loss: 0.2822 - volk_loss: 6.2366 - sigma_val: 0.3621 - volk_val: 14.7768 - ricci_val: 6.7584\n",
      "Epoch  3/30\n",
      " - Sigma measure val:      0.3621\n",
      " - Volk val:               14.7768\n",
      " - Ricci measure val:      6.7584\n",
      "704/704 [==============================] - ETA: 0s - sigma_loss: 0.2803 - volk_loss: 0.0000e+00 - Sigma measure val:      0.3420\n",
      " - Volk val:               15.1355\n",
      " - Ricci measure val:      -8.9123e+00\n",
      "704/704 [==============================] - 19s 22ms/step - sigma_loss: 0.2803 - volk_loss: 0.0000e+00 - sigma_val: 0.3420 - volk_val: 15.1355 - ricci_val: -8.9123\n",
      " - Sigma measure val:      0.3420\n",
      " - Volk val:               15.1355\n",
      " - Ricci measure val:      -8.9123e+00\n",
      "2/2 [==============================] - ETA: 0s - sigma_loss: 0.2691 - volk_loss: 6.4300 - Sigma measure val:      0.3432\n",
      " - Volk val:               14.5657\n",
      " - Ricci measure val:      101.8121\n",
      "2/2 [==============================] - 14s 6s/step - sigma_loss: 0.2691 - volk_loss: 6.4300 - sigma_val: 0.3432 - volk_val: 14.5657 - ricci_val: 101.8121\n",
      "Epoch  4/30\n",
      " - Sigma measure val:      0.3432\n",
      " - Volk val:               14.5657\n",
      " - Ricci measure val:      101.8121\n",
      "703/704 [============================>.] - ETA: 0s - sigma_loss: 0.2626 - volk_loss: 0.0000e+00 - Sigma measure val:      0.3245\n",
      " - Volk val:               15.3109\n",
      " - Ricci measure val:      -3.7495e+02\n",
      "704/704 [==============================] - 17s 20ms/step - sigma_loss: 0.2625 - volk_loss: 0.0000e+00 - sigma_val: 0.3245 - volk_val: 15.3109 - ricci_val: -374.9495\n",
      " - Sigma measure val:      0.3245\n",
      " - Volk val:               15.3109\n",
      " - Ricci measure val:      -3.7495e+02\n",
      "2/2 [==============================] - ETA: 0s - sigma_loss: 0.2608 - volk_loss: 6.4977 - Sigma measure val:      0.3290\n",
      " - Volk val:               14.6287\n",
      " - Ricci measure val:      -1.4764e+02\n",
      "2/2 [==============================] - 14s 6s/step - sigma_loss: 0.2608 - volk_loss: 6.4977 - sigma_val: 0.3290 - volk_val: 14.6287 - ricci_val: -147.6380\n",
      "Epoch  5/30\n",
      " - Sigma measure val:      0.3290\n",
      " - Volk val:               14.6287\n",
      " - Ricci measure val:      -1.4764e+02\n",
      "700/704 [============================>.] - ETA: 0s - sigma_loss: 0.2470 - volk_loss: 0.0000e+00 - Sigma measure val:      0.3032\n",
      " - Volk val:               16.7230\n",
      " - Ricci measure val:      -3.3308e+00\n",
      "704/704 [==============================] - 15s 18ms/step - sigma_loss: 0.2471 - volk_loss: 0.0000e+00 - sigma_val: 0.3032 - volk_val: 16.7230 - ricci_val: -3.3308\n",
      " - Sigma measure val:      0.3032\n",
      " - Volk val:               16.7230\n",
      " - Ricci measure val:      -3.3308e+00\n",
      "2/2 [==============================] - ETA: 0s - sigma_loss: 0.2360 - volk_loss: 7.5624 - Sigma measure val:      0.3028\n",
      " - Volk val:               16.1913\n",
      " - Ricci measure val:      3.4628\n",
      "2/2 [==============================] - 17s 8s/step - sigma_loss: 0.2360 - volk_loss: 7.5624 - sigma_val: 0.3028 - volk_val: 16.1913 - ricci_val: 3.4628\n",
      "Epoch  6/30\n",
      " - Sigma measure val:      0.3028\n",
      " - Volk val:               16.1913\n",
      " - Ricci measure val:      3.4628\n",
      "703/704 [============================>.] - ETA: 0s - sigma_loss: 0.2321 - volk_loss: 0.0000e+00 - Sigma measure val:      0.2844\n",
      " - Volk val:               15.9979\n",
      " - Ricci measure val:      2.4469\n",
      "704/704 [==============================] - 18s 23ms/step - sigma_loss: 0.2321 - volk_loss: 0.0000e+00 - sigma_val: 0.2844 - volk_val: 15.9979 - ricci_val: 2.4469\n",
      " - Sigma measure val:      0.2844\n",
      " - Volk val:               15.9979\n",
      " - Ricci measure val:      2.4469\n",
      "2/2 [==============================] - ETA: 0s - sigma_loss: 0.2230 - volk_loss: 7.1109 - Sigma measure val:      0.2852\n",
      " - Volk val:               15.6866\n",
      " - Ricci measure val:      8.4502\n",
      "2/2 [==============================] - 14s 6s/step - sigma_loss: 0.2230 - volk_loss: 7.1109 - sigma_val: 0.2852 - volk_val: 15.6866 - ricci_val: 8.4502\n",
      "Epoch  7/30\n",
      " - Sigma measure val:      0.2852\n",
      " - Volk val:               15.6866\n",
      " - Ricci measure val:      8.4502\n",
      "702/704 [============================>.] - ETA: 0s - sigma_loss: 0.2211 - volk_loss: 0.0000e+00 - Sigma measure val:      0.2800\n",
      " - Volk val:               16.4092\n",
      " - Ricci measure val:      -1.1493e+01\n",
      "704/704 [==============================] - 20s 23ms/step - sigma_loss: 0.2211 - volk_loss: 0.0000e+00 - sigma_val: 0.2800 - volk_val: 16.4092 - ricci_val: -11.4934\n",
      " - Sigma measure val:      0.2800\n",
      " - Volk val:               16.4092\n",
      " - Ricci measure val:      -1.1493e+01\n",
      "2/2 [==============================] - ETA: 0s - sigma_loss: 0.2113 - volk_loss: 7.4475 - Sigma measure val:      0.2809\n",
      " - Volk val:               15.9307\n",
      " - Ricci measure val:      2.9825\n",
      "2/2 [==============================] - 16s 9s/step - sigma_loss: 0.2113 - volk_loss: 7.4475 - sigma_val: 0.2809 - volk_val: 15.9307 - ricci_val: 2.9825\n",
      "Epoch  8/30\n",
      " - Sigma measure val:      0.2809\n",
      " - Volk val:               15.9307\n",
      " - Ricci measure val:      2.9825\n",
      "699/704 [============================>.] - ETA: 0s - sigma_loss: 0.2135 - volk_loss: 0.0000e+00 - Sigma measure val:      0.2672\n",
      " - Volk val:               16.3562\n",
      " - Ricci measure val:      8.0510\n",
      "704/704 [==============================] - 18s 23ms/step - sigma_loss: 0.2135 - volk_loss: 0.0000e+00 - sigma_val: 0.2672 - volk_val: 16.3562 - ricci_val: 8.0510\n",
      " - Sigma measure val:      0.2672\n",
      " - Volk val:               16.3562\n",
      " - Ricci measure val:      8.0510\n",
      "2/2 [==============================] - ETA: 0s - sigma_loss: 0.2072 - volk_loss: 7.2779 - Sigma measure val:      0.2682\n",
      " - Volk val:               15.9960\n",
      " - Ricci measure val:      16.2694\n",
      "2/2 [==============================] - 18s 10s/step - sigma_loss: 0.2072 - volk_loss: 7.2779 - sigma_val: 0.2682 - volk_val: 15.9960 - ricci_val: 16.2694\n",
      "Epoch  9/30\n",
      " - Sigma measure val:      0.2682\n",
      " - Volk val:               15.9960\n",
      " - Ricci measure val:      16.2694\n",
      "700/704 [============================>.] - ETA: 0s - sigma_loss: 0.2062 - volk_loss: 0.0000e+00 - Sigma measure val:      0.2616\n",
      " - Volk val:               17.0936\n",
      " - Ricci measure val:      7.0179\n",
      "704/704 [==============================] - 19s 23ms/step - sigma_loss: 0.2063 - volk_loss: 0.0000e+00 - sigma_val: 0.2616 - volk_val: 17.0936 - ricci_val: 7.0179\n",
      " - Sigma measure val:      0.2616\n",
      " - Volk val:               17.0936\n",
      " - Ricci measure val:      7.0179\n",
      "2/2 [==============================] - ETA: 0s - sigma_loss: 0.2000 - volk_loss: 7.7683 - Sigma measure val:      0.2607\n",
      " - Volk val:               16.7115\n",
      " - Ricci measure val:      7.0994\n",
      "2/2 [==============================] - 16s 7s/step - sigma_loss: 0.2000 - volk_loss: 7.7683 - sigma_val: 0.2607 - volk_val: 16.7115 - ricci_val: 7.0994\n",
      "Epoch 10/30\n",
      " - Sigma measure val:      0.2607\n",
      " - Volk val:               16.7115\n",
      " - Ricci measure val:      7.0994\n",
      "701/704 [============================>.] - ETA: 0s - sigma_loss: 0.1997 - volk_loss: 0.0000e+00 - Sigma measure val:      0.2570\n",
      " - Volk val:               17.1633\n",
      " - Ricci measure val:      6.7820\n",
      "704/704 [==============================] - 18s 22ms/step - sigma_loss: 0.1996 - volk_loss: 0.0000e+00 - sigma_val: 0.2570 - volk_val: 17.1633 - ricci_val: 6.7820\n"
     ]
    },
    {
     "name": "stdout",
     "output_type": "stream",
     "text": [
      " - Sigma measure val:      0.2570\n",
      " - Volk val:               17.1633\n",
      " - Ricci measure val:      6.7820\n",
      "2/2 [==============================] - ETA: 0s - sigma_loss: 0.1935 - volk_loss: 7.8796 - Sigma measure val:      0.2563\n",
      " - Volk val:               16.5987\n",
      " - Ricci measure val:      6.6247\n",
      "2/2 [==============================] - 18s 10s/step - sigma_loss: 0.1935 - volk_loss: 7.8796 - sigma_val: 0.2563 - volk_val: 16.5987 - ricci_val: 6.6247\n",
      "Epoch 11/30\n",
      " - Sigma measure val:      0.2563\n",
      " - Volk val:               16.5987\n",
      " - Ricci measure val:      6.6247\n",
      "700/704 [============================>.] - ETA: 0s - sigma_loss: 0.1945 - volk_loss: 0.0000e+00 - Sigma measure val:      0.2525\n",
      " - Volk val:               16.7392\n",
      " - Ricci measure val:      6.6577\n",
      "704/704 [==============================] - 16s 20ms/step - sigma_loss: 0.1944 - volk_loss: 0.0000e+00 - sigma_val: 0.2525 - volk_val: 16.7392 - ricci_val: 6.6577\n",
      " - Sigma measure val:      0.2525\n",
      " - Volk val:               16.7392\n",
      " - Ricci measure val:      6.6577\n",
      "2/2 [==============================] - ETA: 0s - sigma_loss: 0.1918 - volk_loss: 7.5786 - Sigma measure val:      0.2530\n",
      " - Volk val:               16.3410\n",
      " - Ricci measure val:      6.7223\n",
      "2/2 [==============================] - 14s 6s/step - sigma_loss: 0.1918 - volk_loss: 7.5786 - sigma_val: 0.2530 - volk_val: 16.3410 - ricci_val: 6.7223\n",
      "Epoch 12/30\n",
      " - Sigma measure val:      0.2530\n",
      " - Volk val:               16.3410\n",
      " - Ricci measure val:      6.7223\n",
      "703/704 [============================>.] - ETA: 0s - sigma_loss: 0.1905 - volk_loss: 0.0000e+00 - Sigma measure val:      0.2447\n",
      " - Volk val:               17.3793\n",
      " - Ricci measure val:      5.8854\n",
      "704/704 [==============================] - 18s 23ms/step - sigma_loss: 0.1905 - volk_loss: 0.0000e+00 - sigma_val: 0.2447 - volk_val: 17.3793 - ricci_val: 5.8854\n",
      " - Sigma measure val:      0.2447\n",
      " - Volk val:               17.3793\n",
      " - Ricci measure val:      5.8854\n",
      "2/2 [==============================] - ETA: 0s - sigma_loss: 0.1821 - volk_loss: 7.9395 - Sigma measure val:      0.2448\n",
      " - Volk val:               16.8566\n",
      " - Ricci measure val:      4.7072\n",
      "2/2 [==============================] - 15s 7s/step - sigma_loss: 0.1821 - volk_loss: 7.9395 - sigma_val: 0.2448 - volk_val: 16.8566 - ricci_val: 4.7072\n",
      "Epoch 13/30\n",
      " - Sigma measure val:      0.2448\n",
      " - Volk val:               16.8566\n",
      " - Ricci measure val:      4.7072\n",
      "700/704 [============================>.] - ETA: 0s - sigma_loss: 0.1851 - volk_loss: 0.0000e+00 - Sigma measure val:      0.2458\n",
      " - Volk val:               17.3866\n",
      " - Ricci measure val:      7.0114\n",
      "704/704 [==============================] - 21s 23ms/step - sigma_loss: 0.1852 - volk_loss: 0.0000e+00 - sigma_val: 0.2458 - volk_val: 17.3866 - ricci_val: 7.0114\n",
      " - Sigma measure val:      0.2458\n",
      " - Volk val:               17.3866\n",
      " - Ricci measure val:      7.0114\n",
      "2/2 [==============================] - ETA: 0s - sigma_loss: 0.1843 - volk_loss: 8.0356 - Sigma measure val:      0.2461\n",
      " - Volk val:               16.9973\n",
      " - Ricci measure val:      6.9287\n",
      "2/2 [==============================] - 14s 6s/step - sigma_loss: 0.1843 - volk_loss: 8.0356 - sigma_val: 0.2461 - volk_val: 16.9973 - ricci_val: 6.9287\n",
      "Epoch 14/30\n",
      " - Sigma measure val:      0.2461\n",
      " - Volk val:               16.9973\n",
      " - Ricci measure val:      6.9287\n",
      "702/704 [============================>.] - ETA: 0s - sigma_loss: 0.1822 - volk_loss: 0.0000e+00 - Sigma measure val:      0.2392\n",
      " - Volk val:               17.5865\n",
      " - Ricci measure val:      34.6943\n",
      "704/704 [==============================] - 15s 19ms/step - sigma_loss: 0.1821 - volk_loss: 0.0000e+00 - sigma_val: 0.2392 - volk_val: 17.5865 - ricci_val: 34.6943\n",
      " - Sigma measure val:      0.2392\n",
      " - Volk val:               17.5865\n",
      " - Ricci measure val:      34.6943\n",
      "2/2 [==============================] - ETA: 0s - sigma_loss: 0.1774 - volk_loss: 8.2132 - Sigma measure val:      0.2399\n",
      " - Volk val:               17.2772\n",
      " - Ricci measure val:      34.3015\n",
      "2/2 [==============================] - 14s 6s/step - sigma_loss: 0.1774 - volk_loss: 8.2132 - sigma_val: 0.2399 - volk_val: 17.2772 - ricci_val: 34.3015\n",
      "Epoch 15/30\n",
      " - Sigma measure val:      0.2399\n",
      " - Volk val:               17.2772\n",
      " - Ricci measure val:      34.3015\n",
      "701/704 [============================>.] - ETA: 0s - sigma_loss: 0.1776 - volk_loss: 0.0000e+00 - Sigma measure val:      0.2368\n",
      " - Volk val:               17.1344\n",
      " - Ricci measure val:      7.2071\n",
      "704/704 [==============================] - 15s 19ms/step - sigma_loss: 0.1776 - volk_loss: 0.0000e+00 - sigma_val: 0.2368 - volk_val: 17.1344 - ricci_val: 7.2071\n",
      " - Sigma measure val:      0.2368\n",
      " - Volk val:               17.1344\n",
      " - Ricci measure val:      7.2071\n",
      "2/2 [==============================] - ETA: 0s - sigma_loss: 0.1750 - volk_loss: 7.8457 - Sigma measure val:      0.2376\n",
      " - Volk val:               16.8096\n",
      " - Ricci measure val:      7.1053\n",
      "2/2 [==============================] - 18s 10s/step - sigma_loss: 0.1750 - volk_loss: 7.8457 - sigma_val: 0.2376 - volk_val: 16.8096 - ricci_val: 7.1053\n",
      "Epoch 16/30\n",
      " - Sigma measure val:      0.2376\n",
      " - Volk val:               16.8096\n",
      " - Ricci measure val:      7.1053\n",
      "701/704 [============================>.] - ETA: 0s - sigma_loss: 0.1746 - volk_loss: 0.0000e+00 - Sigma measure val:      0.2344\n",
      " - Volk val:               17.1810\n",
      " - Ricci measure val:      6.4165\n",
      "704/704 [==============================] - 21s 27ms/step - sigma_loss: 0.1746 - volk_loss: 0.0000e+00 - sigma_val: 0.2344 - volk_val: 17.1810 - ricci_val: 6.4165\n",
      " - Sigma measure val:      0.2344\n",
      " - Volk val:               17.1810\n",
      " - Ricci measure val:      6.4165\n",
      "2/2 [==============================] - ETA: 0s - sigma_loss: 0.1715 - volk_loss: 7.8962 - Sigma measure val:      0.2347\n",
      " - Volk val:               16.8139\n",
      " - Ricci measure val:      6.2743\n",
      "2/2 [==============================] - 15s 6s/step - sigma_loss: 0.1715 - volk_loss: 7.8962 - sigma_val: 0.2347 - volk_val: 16.8139 - ricci_val: 6.2743\n",
      "Epoch 17/30\n",
      " - Sigma measure val:      0.2347\n",
      " - Volk val:               16.8139\n",
      " - Ricci measure val:      6.2743\n",
      "702/704 [============================>.] - ETA: 0s - sigma_loss: 0.1716 - volk_loss: 0.0000e+00 - Sigma measure val:      0.2281\n",
      " - Volk val:               17.3779\n",
      " - Ricci measure val:      14.1235\n",
      "704/704 [==============================] - 18s 23ms/step - sigma_loss: 0.1715 - volk_loss: 0.0000e+00 - sigma_val: 0.2281 - volk_val: 17.3779 - ricci_val: 14.1235\n",
      " - Sigma measure val:      0.2281\n",
      " - Volk val:               17.3779\n",
      " - Ricci measure val:      14.1235\n",
      "2/2 [==============================] - ETA: 0s - sigma_loss: 0.1674 - volk_loss: 8.0406 - Sigma measure val:      0.2287\n",
      " - Volk val:               17.0064\n",
      " - Ricci measure val:      96.7154\n",
      "2/2 [==============================] - 15s 7s/step - sigma_loss: 0.1674 - volk_loss: 8.0406 - sigma_val: 0.2287 - volk_val: 17.0064 - ricci_val: 96.7154\n",
      "Epoch 18/30\n",
      " - Sigma measure val:      0.2287\n",
      " - Volk val:               17.0064\n",
      " - Ricci measure val:      96.7154\n",
      "701/704 [============================>.] - ETA: 0s - sigma_loss: 0.1689 - volk_loss: 0.0000e+00 - Sigma measure val:      0.2277\n",
      " - Volk val:               17.6973\n",
      " - Ricci measure val:      6.7635\n",
      "704/704 [==============================] - 18s 23ms/step - sigma_loss: 0.1688 - volk_loss: 0.0000e+00 - sigma_val: 0.2277 - volk_val: 17.6973 - ricci_val: 6.7635\n",
      " - Sigma measure val:      0.2277\n",
      " - Volk val:               17.6973\n",
      " - Ricci measure val:      6.7635\n",
      "2/2 [==============================] - ETA: 0s - sigma_loss: 0.1653 - volk_loss: 8.2151 - Sigma measure val:      0.2286\n",
      " - Volk val:               17.5306\n",
      " - Ricci measure val:      6.6959\n",
      "2/2 [==============================] - 20s 12s/step - sigma_loss: 0.1653 - volk_loss: 8.2151 - sigma_val: 0.2286 - volk_val: 17.5306 - ricci_val: 6.6959\n",
      "Epoch 19/30\n",
      " - Sigma measure val:      0.2286\n",
      " - Volk val:               17.5306\n",
      " - Ricci measure val:      6.6959\n",
      "703/704 [============================>.] - ETA: 0s - sigma_loss: 0.1659 - volk_loss: 0.0000e+00 - Sigma measure val:      0.2273\n",
      " - Volk val:               17.9333\n",
      " - Ricci measure val:      7.5665\n",
      "704/704 [==============================] - 17s 21ms/step - sigma_loss: 0.1659 - volk_loss: 0.0000e+00 - sigma_val: 0.2273 - volk_val: 17.9333 - ricci_val: 7.5665\n"
     ]
    },
    {
     "name": "stdout",
     "output_type": "stream",
     "text": [
      " - Sigma measure val:      0.2273\n",
      " - Volk val:               17.9333\n",
      " - Ricci measure val:      7.5665\n",
      "2/2 [==============================] - ETA: 0s - sigma_loss: 0.1635 - volk_loss: 8.3521 - Sigma measure val:      0.2283\n",
      " - Volk val:               17.5509\n",
      " - Ricci measure val:      7.9152\n",
      "2/2 [==============================] - 15s 7s/step - sigma_loss: 0.1635 - volk_loss: 8.3521 - sigma_val: 0.2283 - volk_val: 17.5509 - ricci_val: 7.9152\n",
      "Epoch 20/30\n",
      " - Sigma measure val:      0.2283\n",
      " - Volk val:               17.5509\n",
      " - Ricci measure val:      7.9152\n",
      "702/704 [============================>.] - ETA: 0s - sigma_loss: 0.1634 - volk_loss: 0.0000e+00 - Sigma measure val:      0.2173\n",
      " - Volk val:               17.7509\n",
      " - Ricci measure val:      6.5460\n",
      "704/704 [==============================] - 18s 22ms/step - sigma_loss: 0.1634 - volk_loss: 0.0000e+00 - sigma_val: 0.2173 - volk_val: 17.7509 - ricci_val: 6.5460\n",
      " - Sigma measure val:      0.2173\n",
      " - Volk val:               17.7509\n",
      " - Ricci measure val:      6.5460\n",
      "2/2 [==============================] - ETA: 0s - sigma_loss: 0.1576 - volk_loss: 8.3171 - Sigma measure val:      0.2175\n",
      " - Volk val:               17.4642\n",
      " - Ricci measure val:      6.4365\n",
      "2/2 [==============================] - 15s 7s/step - sigma_loss: 0.1576 - volk_loss: 8.3171 - sigma_val: 0.2175 - volk_val: 17.4642 - ricci_val: 6.4365\n",
      "Epoch 21/30\n",
      " - Sigma measure val:      0.2175\n",
      " - Volk val:               17.4642\n",
      " - Ricci measure val:      6.4365\n",
      "701/704 [============================>.] - ETA: 0s - sigma_loss: 0.1613 - volk_loss: 0.0000e+00 - Sigma measure val:      0.2186\n",
      " - Volk val:               17.4961\n",
      " - Ricci measure val:      6.3042\n",
      "704/704 [==============================] - 18s 23ms/step - sigma_loss: 0.1613 - volk_loss: 0.0000e+00 - sigma_val: 0.2186 - volk_val: 17.4961 - ricci_val: 6.3042\n",
      " - Sigma measure val:      0.2186\n",
      " - Volk val:               17.4961\n",
      " - Ricci measure val:      6.3042\n",
      "2/2 [==============================] - ETA: 0s - sigma_loss: 0.1581 - volk_loss: 8.0694 - Sigma measure val:      0.2194\n",
      " - Volk val:               17.2636\n",
      " - Ricci measure val:      6.1892\n",
      "2/2 [==============================] - 16s 7s/step - sigma_loss: 0.1581 - volk_loss: 8.0694 - sigma_val: 0.2194 - volk_val: 17.2636 - ricci_val: 6.1892\n",
      "Epoch 22/30\n",
      " - Sigma measure val:      0.2194\n",
      " - Volk val:               17.2636\n",
      " - Ricci measure val:      6.1892\n",
      "700/704 [============================>.] - ETA: 0s - sigma_loss: 0.1590 - volk_loss: 0.0000e+00 - Sigma measure val:      0.2170\n",
      " - Volk val:               17.5163\n",
      " - Ricci measure val:      6.1655\n",
      "704/704 [==============================] - 21s 27ms/step - sigma_loss: 0.1589 - volk_loss: 0.0000e+00 - sigma_val: 0.2170 - volk_val: 17.5163 - ricci_val: 6.1655\n",
      " - Sigma measure val:      0.2170\n",
      " - Volk val:               17.5163\n",
      " - Ricci measure val:      6.1655\n",
      "2/2 [==============================] - ETA: 0s - sigma_loss: 0.1562 - volk_loss: 8.1359 - Sigma measure val:      0.2168\n",
      " - Volk val:               17.2193\n",
      " - Ricci measure val:      6.0929\n",
      "2/2 [==============================] - 14s 7s/step - sigma_loss: 0.1562 - volk_loss: 8.1359 - sigma_val: 0.2168 - volk_val: 17.2193 - ricci_val: 6.0929\n",
      "Epoch 23/30\n",
      " - Sigma measure val:      0.2168\n",
      " - Volk val:               17.2193\n",
      " - Ricci measure val:      6.0929\n",
      "702/704 [============================>.] - ETA: 0s - sigma_loss: 0.1575 - volk_loss: 0.0000e+00 - Sigma measure val:      0.2162\n",
      " - Volk val:               18.1789\n",
      " - Ricci measure val:      6.6462\n",
      "704/704 [==============================] - 16s 20ms/step - sigma_loss: 0.1576 - volk_loss: 0.0000e+00 - sigma_val: 0.2162 - volk_val: 18.1789 - ricci_val: 6.6462\n",
      " - Sigma measure val:      0.2162\n",
      " - Volk val:               18.1789\n",
      " - Ricci measure val:      6.6462\n",
      "2/2 [==============================] - ETA: 0s - sigma_loss: 0.1575 - volk_loss: 8.5105 - Sigma measure val:      0.2161\n",
      " - Volk val:               17.8849\n",
      " - Ricci measure val:      6.5483\n",
      "2/2 [==============================] - 15s 7s/step - sigma_loss: 0.1575 - volk_loss: 8.5105 - sigma_val: 0.2161 - volk_val: 17.8849 - ricci_val: 6.5483\n",
      "Epoch 24/30\n",
      " - Sigma measure val:      0.2161\n",
      " - Volk val:               17.8849\n",
      " - Ricci measure val:      6.5483\n",
      "702/704 [============================>.] - ETA: 0s - sigma_loss: 0.1557 - volk_loss: 0.0000e+00 - Sigma measure val:      0.2118\n",
      " - Volk val:               17.6556\n",
      " - Ricci measure val:      6.0948\n",
      "704/704 [==============================] - 17s 21ms/step - sigma_loss: 0.1557 - volk_loss: 0.0000e+00 - sigma_val: 0.2118 - volk_val: 17.6556 - ricci_val: 6.0948\n",
      " - Sigma measure val:      0.2118\n",
      " - Volk val:               17.6556\n",
      " - Ricci measure val:      6.0948\n",
      "2/2 [==============================] - ETA: 0s - sigma_loss: 0.1529 - volk_loss: 8.1891 - Sigma measure val:      0.2116\n",
      " - Volk val:               17.2386\n",
      " - Ricci measure val:      6.1104\n",
      "2/2 [==============================] - 16s 7s/step - sigma_loss: 0.1529 - volk_loss: 8.1891 - sigma_val: 0.2116 - volk_val: 17.2386 - ricci_val: 6.1104\n",
      "Epoch 25/30\n",
      " - Sigma measure val:      0.2116\n",
      " - Volk val:               17.2386\n",
      " - Ricci measure val:      6.1104\n",
      "703/704 [============================>.] - ETA: 0s - sigma_loss: 0.1536 - volk_loss: 0.0000e+00 - Sigma measure val:      0.2099\n",
      " - Volk val:               17.6929\n",
      " - Ricci measure val:      6.4759\n",
      "704/704 [==============================] - 18s 22ms/step - sigma_loss: 0.1535 - volk_loss: 0.0000e+00 - sigma_val: 0.2099 - volk_val: 17.6929 - ricci_val: 6.4759\n",
      " - Sigma measure val:      0.2099\n",
      " - Volk val:               17.6929\n",
      " - Ricci measure val:      6.4759\n",
      "2/2 [==============================] - ETA: 0s - sigma_loss: 0.1497 - volk_loss: 8.1821 - Sigma measure val:      0.2098\n",
      " - Volk val:               17.3904\n",
      " - Ricci measure val:      6.4279\n",
      "2/2 [==============================] - 15s 7s/step - sigma_loss: 0.1497 - volk_loss: 8.1821 - sigma_val: 0.2098 - volk_val: 17.3904 - ricci_val: 6.4279\n",
      "Epoch 26/30\n",
      " - Sigma measure val:      0.2098\n",
      " - Volk val:               17.3904\n",
      " - Ricci measure val:      6.4279\n",
      "703/704 [============================>.] - ETA: 0s - sigma_loss: 0.1521 - volk_loss: 0.0000e+00 - Sigma measure val:      0.2060\n",
      " - Volk val:               17.4741\n",
      " - Ricci measure val:      6.6688\n",
      "704/704 [==============================] - 22s 28ms/step - sigma_loss: 0.1520 - volk_loss: 0.0000e+00 - sigma_val: 0.2060 - volk_val: 17.4741 - ricci_val: 6.6688\n",
      " - Sigma measure val:      0.2060\n",
      " - Volk val:               17.4741\n",
      " - Ricci measure val:      6.6688\n",
      "2/2 [==============================] - ETA: 0s - sigma_loss: 0.1512 - volk_loss: 8.1455 - Sigma measure val:      0.2065\n",
      " - Volk val:               17.1167\n",
      " - Ricci measure val:      6.5782\n",
      "2/2 [==============================] - 15s 6s/step - sigma_loss: 0.1512 - volk_loss: 8.1455 - sigma_val: 0.2065 - volk_val: 17.1167 - ricci_val: 6.5782\n",
      "Epoch 27/30\n",
      " - Sigma measure val:      0.2065\n",
      " - Volk val:               17.1167\n",
      " - Ricci measure val:      6.5782\n",
      "699/704 [============================>.] - ETA: 0s - sigma_loss: 0.1509 - volk_loss: 0.0000e+00 - Sigma measure val:      0.2060\n",
      " - Volk val:               17.8011\n",
      " - Ricci measure val:      6.3048\n",
      "704/704 [==============================] - 17s 20ms/step - sigma_loss: 0.1509 - volk_loss: 0.0000e+00 - sigma_val: 0.2060 - volk_val: 17.8011 - ricci_val: 6.3048\n",
      " - Sigma measure val:      0.2060\n",
      " - Volk val:               17.8011\n",
      " - Ricci measure val:      6.3048\n",
      "2/2 [==============================] - ETA: 0s - sigma_loss: 0.1474 - volk_loss: 8.2005 - Sigma measure val:      0.2059\n",
      " - Volk val:               17.4591\n",
      " - Ricci measure val:      6.2305\n",
      "2/2 [==============================] - 15s 7s/step - sigma_loss: 0.1474 - volk_loss: 8.2005 - sigma_val: 0.2059 - volk_val: 17.4591 - ricci_val: 6.2305\n",
      "Epoch 28/30\n",
      " - Sigma measure val:      0.2059\n",
      " - Volk val:               17.4591\n",
      " - Ricci measure val:      6.2305\n",
      "701/704 [============================>.] - ETA: 0s - sigma_loss: 0.1486 - volk_loss: 0.0000e+00 - Sigma measure val:      0.2045\n",
      " - Volk val:               17.6952\n",
      " - Ricci measure val:      7.6673\n",
      "704/704 [==============================] - 16s 20ms/step - sigma_loss: 0.1487 - volk_loss: 0.0000e+00 - sigma_val: 0.2045 - volk_val: 17.6952 - ricci_val: 7.6673\n"
     ]
    },
    {
     "name": "stdout",
     "output_type": "stream",
     "text": [
      " - Sigma measure val:      0.2045\n",
      " - Volk val:               17.6952\n",
      " - Ricci measure val:      7.6673\n",
      "2/2 [==============================] - ETA: 0s - sigma_loss: 0.1455 - volk_loss: 8.2066 - Sigma measure val:      0.2048\n",
      " - Volk val:               17.3752\n",
      " - Ricci measure val:      9.1324\n",
      "2/2 [==============================] - 14s 6s/step - sigma_loss: 0.1455 - volk_loss: 8.2066 - sigma_val: 0.2048 - volk_val: 17.3752 - ricci_val: 9.1324\n",
      "Epoch 29/30\n",
      " - Sigma measure val:      0.2048\n",
      " - Volk val:               17.3752\n",
      " - Ricci measure val:      9.1324\n",
      "703/704 [============================>.] - ETA: 0s - sigma_loss: 0.1475 - volk_loss: 0.0000e+00 - Sigma measure val:      0.2059\n",
      " - Volk val:               17.7333\n",
      " - Ricci measure val:      15.1202\n",
      "704/704 [==============================] - 15s 19ms/step - sigma_loss: 0.1476 - volk_loss: 0.0000e+00 - sigma_val: 0.2059 - volk_val: 17.7333 - ricci_val: 15.1202\n",
      " - Sigma measure val:      0.2059\n",
      " - Volk val:               17.7333\n",
      " - Ricci measure val:      15.1202\n",
      "2/2 [==============================] - ETA: 0s - sigma_loss: 0.1455 - volk_loss: 8.2178 - Sigma measure val:      0.2063\n",
      " - Volk val:               17.4097\n",
      " - Ricci measure val:      13.3245\n",
      "2/2 [==============================] - 13s 6s/step - sigma_loss: 0.1455 - volk_loss: 8.2178 - sigma_val: 0.2063 - volk_val: 17.4097 - ricci_val: 13.3245\n",
      "Epoch 30/30\n",
      " - Sigma measure val:      0.2063\n",
      " - Volk val:               17.4097\n",
      " - Ricci measure val:      13.3245\n",
      "701/704 [============================>.] - ETA: 0s - sigma_loss: 0.1457 - volk_loss: 0.0000e+00 - Sigma measure val:      0.2017\n",
      " - Volk val:               18.0103\n",
      " - Ricci measure val:      6.8447\n",
      "704/704 [==============================] - 15s 18ms/step - sigma_loss: 0.1457 - volk_loss: 0.0000e+00 - sigma_val: 0.2017 - volk_val: 18.0103 - ricci_val: 6.8447\n",
      " - Sigma measure val:      0.2017\n",
      " - Volk val:               18.0103\n",
      " - Ricci measure val:      6.8447\n",
      "2/2 [==============================] - ETA: 0s - sigma_loss: 0.1413 - volk_loss: 8.4088 - Sigma measure val:      0.2024\n",
      " - Volk val:               17.7558\n",
      " - Ricci measure val:      6.8010\n",
      "2/2 [==============================] - 14s 6s/step - sigma_loss: 0.1413 - volk_loss: 8.4088 - sigma_val: 0.2024 - volk_val: 17.7558 - ricci_val: 6.8010\n"
     ]
    }
   ],
   "source": [
    "os.environ['TF_CPP_MIN_LOG_LEVEL'] = '0'  # mostly silences TF logger\n",
    "fs_model, training_history = train_model(fs_model, data, epochs=n_epochs, batch_sizes=batch_sizes,\n",
    "                                         verbose=1, custom_metrics=cmetrics, callbacks=cb_list)"
   ]
  },
  {
   "cell_type": "markdown",
   "metadata": {},
   "source": [
    "Check the volume normailzation of our data"
   ]
  },
  {
   "cell_type": "code",
   "execution_count": 11,
   "metadata": {},
   "outputs": [
    {
     "name": "stdout",
     "output_type": "stream",
     "text": [
      "Vol_K from triple intersection numbers at t1=t2=1:                 20\n",
      "Vol_K from MC integration over FS metric in Kahler class t1=t2=1:  19.99\n",
      "Vol_K from MC integration over CY metric in Kahler class t1=t2=1:  17.76\n"
     ]
    }
   ],
   "source": [
    "dets_fs = np.real(tf.linalg.det(fs_model.fubini_study_pb(tf.cast(data['X_train'], tf.float32))).numpy())\n",
    "dets_cy = np.real(tf.linalg.det(fs_model(tf.cast(data['X_train'], tf.float32))).numpy())\n",
    "weights, omegas = data['y_train'][:,-2], data['y_train'][:,-1]\n",
    "vol_k_fs = np.mean(weights * dets_fs / omegas)\n",
    "vol_k_cy = np.mean(weights * dets_cy / omegas)\n",
    "print(\"Vol_K from triple intersection numbers at t1=t2=1:                \", toric_data['vol_j_norm'])\n",
    "print(\"Vol_K from MC integration over FS metric in Kahler class t1=t2=1: \", np.round(vol_k_fs, 2))\n",
    "print(\"Vol_K from MC integration over CY metric in Kahler class t1=t2=1: \", np.round(vol_k_cy, 2))"
   ]
  },
  {
   "cell_type": "markdown",
   "metadata": {},
   "source": [
    "... and look at the value of the Kahler potential"
   ]
  },
  {
   "cell_type": "code",
   "execution_count": 12,
   "metadata": {},
   "outputs": [
    {
     "data": {
      "text/plain": [
       "<tf.Tensor: shape=(10,), dtype=float32, numpy=\n",
       "array([0.33434856, 0.37565917, 0.32292545, 0.26137507, 0.50044584,\n",
       "       0.44852358, 0.2489092 , 0.22698036, 0.28524846, 0.22972664],\n",
       "      dtype=float32)>"
      ]
     },
     "execution_count": 12,
     "metadata": {},
     "output_type": "execute_result"
    }
   ],
   "source": [
    "fs_model.get_kahler_potential(data['X_train'][:10])"
   ]
  },
  {
   "cell_type": "markdown",
   "metadata": {},
   "source": [
    "## Plot the results"
   ]
  },
  {
   "cell_type": "code",
   "execution_count": 13,
   "metadata": {},
   "outputs": [],
   "source": [
    "import matplotlib.pyplot as plt\n",
    "import seaborn as sns\n",
    "import pandas as pd\n",
    "sns.set_style(\"darkgrid\")"
   ]
  },
  {
   "cell_type": "markdown",
   "metadata": {},
   "source": [
    "Note that vol_k val should be constant (and equal to 20.0). So in this case, it is off by 15%)"
   ]
  },
  {
   "cell_type": "code",
   "execution_count": 27,
   "metadata": {
    "scrolled": false
   },
   "outputs": [
    {
     "data": {
      "image/png": "[encoded data removed]",
      "text/plain": [
       "<Figure size 720x360 with 2 Axes>"
      ]
     },
     "metadata": {},
     "output_type": "display_data"
    }
   ],
   "source": [
    "hist = training_history\n",
    "hist['epochs'] = list(range(n_epochs))\n",
    "hist_data = pd.DataFrame(hist)\n",
    "fig, [ax1, ax2] = plt.subplots(1, 2, figsize=(10,5));\n",
    "ax1.set_title(\"Monge-Ampere loss\")\n",
    "sns.scatterplot(x='epochs', y='sigma_loss', data=hist_data, alpha=0.75, ax=ax1, label=\"train\")\n",
    "sns.scatterplot(x='epochs', y='sigma_val', data=hist_data, alpha=0.75, ax=ax1, label=\"val\")\n",
    "\n",
    "ax2.set_title(\"Vol_K value of validation set\")\n",
    "sns.scatterplot(x='epochs', y='volk_val', data=hist_data, alpha=0.75, ax=ax2, label=\"val\");"
   ]
  },
  {
   "cell_type": "code",
   "execution_count": null,
   "metadata": {},
   "outputs": [],
   "source": []
  }
 ],
 "metadata": {
  "kernelspec": {
   "display_name": "venv-ml",
   "language": "python",
   "name": "venv-ml"
  },
  "language": "python",
  "language_info": {
   "codemirror_mode": {
    "name": "ipython",
    "version": 3
   },
   "file_extension": ".py",
   "mimetype": "text/x-python",
   "name": "python",
   "nbconvert_exporter": "python",
   "pygments_lexer": "ipython3",
   "version": "3.8.9"
  }
 },
 "nbformat": 4,
 "nbformat_minor": 2
}
