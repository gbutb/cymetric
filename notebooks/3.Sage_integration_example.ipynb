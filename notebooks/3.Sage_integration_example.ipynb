{
 "cells": [
  {
   "cell_type": "markdown",
   "metadata": {},
   "source": [
    "# Example: Random KS model (we just take any with Picard Rank 2)"
   ]
  },
  {
   "cell_type": "code",
   "execution_count": 1,
   "metadata": {},
   "outputs": [],
   "source": [
    "# some general packages\n",
    "import numpy as np\n",
    "import os\n",
    "import pickle\n",
    "\n",
    "# ML packages\n",
    "import tensorflow as tf\n",
    "\n",
    "# data generation\n",
    "from cymetric.pointgen.pointgen_mathematica import ToricPointGeneratorMathematica\n",
    "from cymetric.pointgen.nphelper import prepare_dataset, prepare_basis_pickle\n",
    "from cymetric.models.tfhelper import prepare_tf_basis, train_model\n",
    "\n",
    "# training\n",
    "from cymetric.models.tfmodels import PhiFSModelToric\n",
    "from cymetric.models.callbacks import SigmaCallback, TransitionCallback, RicciCallback, VolkCallback\n",
    "from cymetric.models.metrics import SigmaLoss, TransitionLoss, RicciLoss, VolkLoss\n",
    "from cymetric.models.measures import sigma_measure, transition_measure_loss, ricci_measure"
   ]
  },
  {
   "cell_type": "markdown",
   "metadata": {
    "heading_collapsed": true
   },
   "source": [
    "## Compute toric information"
   ]
  },
  {
   "cell_type": "code",
   "execution_count": 2,
   "metadata": {
    "hidden": true
   },
   "outputs": [
    {
     "ename": "ModuleNotFoundError",
     "evalue": "No module named 'sage'",
     "output_type": "error",
     "traceback": [
      "\u001b[0;31m---------------------------------------------------------------------------\u001b[0m",
      "\u001b[0;31mModuleNotFoundError\u001b[0m                       Traceback (most recent call last)",
      "\u001b[0;32m/var/folders/r3/33sjs05x2w3f5y4cmm3yr7h00000gn/T/ipykernel_24269/402283312.py\u001b[0m in \u001b[0;36m<module>\u001b[0;34m\u001b[0m\n\u001b[0;32m----> 1\u001b[0;31m \u001b[0;32mfrom\u001b[0m \u001b[0mcymetric\u001b[0m\u001b[0;34m.\u001b[0m\u001b[0msage\u001b[0m\u001b[0;34m.\u001b[0m\u001b[0msagelib\u001b[0m \u001b[0;32mimport\u001b[0m \u001b[0mprepare_toric_cy_data\u001b[0m\u001b[0;34m\u001b[0m\u001b[0;34m\u001b[0m\u001b[0m\n\u001b[0m\u001b[1;32m      2\u001b[0m \u001b[0;34m\u001b[0m\u001b[0m\n\u001b[1;32m      3\u001b[0m \u001b[0mwork_dir\u001b[0m \u001b[0;34m=\u001b[0m \u001b[0;34m\"./ToricModel\"\u001b[0m\u001b[0;34m\u001b[0m\u001b[0;34m\u001b[0m\u001b[0m\n\u001b[1;32m      4\u001b[0m \u001b[0mvertices\u001b[0m \u001b[0;34m=\u001b[0m \u001b[0;34m[\u001b[0m\u001b[0;34m[\u001b[0m\u001b[0;36m1\u001b[0m\u001b[0;34m,\u001b[0m \u001b[0;36m0\u001b[0m\u001b[0;34m,\u001b[0m \u001b[0;36m0\u001b[0m\u001b[0;34m,\u001b[0m \u001b[0;36m0\u001b[0m\u001b[0;34m]\u001b[0m\u001b[0;34m,\u001b[0m \u001b[0;34m[\u001b[0m\u001b[0;36m0\u001b[0m\u001b[0;34m,\u001b[0m \u001b[0;36m1\u001b[0m\u001b[0;34m,\u001b[0m \u001b[0;36m0\u001b[0m\u001b[0;34m,\u001b[0m \u001b[0;36m0\u001b[0m\u001b[0;34m]\u001b[0m\u001b[0;34m,\u001b[0m \u001b[0;34m[\u001b[0m\u001b[0;36m0\u001b[0m\u001b[0;34m,\u001b[0m \u001b[0;36m0\u001b[0m\u001b[0;34m,\u001b[0m \u001b[0;36m1\u001b[0m\u001b[0;34m,\u001b[0m \u001b[0;36m0\u001b[0m\u001b[0;34m]\u001b[0m\u001b[0;34m,\u001b[0m \u001b[0;34m[\u001b[0m\u001b[0;36m0\u001b[0m\u001b[0;34m,\u001b[0m \u001b[0;36m0\u001b[0m\u001b[0;34m,\u001b[0m \u001b[0;36m0\u001b[0m\u001b[0;34m,\u001b[0m \u001b[0;36m1\u001b[0m\u001b[0;34m]\u001b[0m\u001b[0;34m,\u001b[0m \u001b[0;34m[\u001b[0m\u001b[0;34m-\u001b[0m\u001b[0;36m1\u001b[0m\u001b[0;34m,\u001b[0m \u001b[0;34m-\u001b[0m\u001b[0;36m1\u001b[0m\u001b[0;34m,\u001b[0m \u001b[0;34m-\u001b[0m\u001b[0;36m1\u001b[0m\u001b[0;34m,\u001b[0m \u001b[0;36m0\u001b[0m\u001b[0;34m]\u001b[0m\u001b[0;34m,\u001b[0m \u001b[0;34m[\u001b[0m\u001b[0;36m2\u001b[0m\u001b[0;34m,\u001b[0m \u001b[0;36m0\u001b[0m\u001b[0;34m,\u001b[0m \u001b[0;36m0\u001b[0m\u001b[0;34m,\u001b[0m \u001b[0;34m-\u001b[0m\u001b[0;36m1\u001b[0m\u001b[0;34m]\u001b[0m\u001b[0;34m]\u001b[0m  \u001b[0;31m# P2 fibered over P2\u001b[0m\u001b[0;34m\u001b[0m\u001b[0;34m\u001b[0m\u001b[0m\n\u001b[1;32m      5\u001b[0m \u001b[0mpolytope\u001b[0m \u001b[0;34m=\u001b[0m \u001b[0mLatticePolytope\u001b[0m\u001b[0;34m(\u001b[0m\u001b[0mvertices\u001b[0m\u001b[0;34m)\u001b[0m\u001b[0;34m\u001b[0m\u001b[0;34m\u001b[0m\u001b[0m\n",
      "\u001b[0;32m~/venv-ml/lib/python3.8/site-packages/cymetric/sage/sagelib.py\u001b[0m in \u001b[0;36m<module>\u001b[0;34m\u001b[0m\n\u001b[1;32m      1\u001b[0m \u001b[0;31m# tested with Sage 9.x\u001b[0m\u001b[0;34m\u001b[0m\u001b[0;34m\u001b[0m\u001b[0;34m\u001b[0m\u001b[0m\n\u001b[0;32m----> 2\u001b[0;31m \u001b[0;32mfrom\u001b[0m \u001b[0msage\u001b[0m\u001b[0;34m.\u001b[0m\u001b[0mall\u001b[0m \u001b[0;32mimport\u001b[0m \u001b[0;34m*\u001b[0m\u001b[0;34m\u001b[0m\u001b[0;34m\u001b[0m\u001b[0m\n\u001b[0m\u001b[1;32m      3\u001b[0m \u001b[0;32mimport\u001b[0m \u001b[0mitertools\u001b[0m\u001b[0;34m\u001b[0m\u001b[0;34m\u001b[0m\u001b[0m\n\u001b[1;32m      4\u001b[0m \u001b[0;32mimport\u001b[0m \u001b[0mnumpy\u001b[0m \u001b[0;32mas\u001b[0m \u001b[0mnp\u001b[0m\u001b[0;34m\u001b[0m\u001b[0;34m\u001b[0m\u001b[0m\n\u001b[1;32m      5\u001b[0m \u001b[0;32mimport\u001b[0m \u001b[0mos\u001b[0m\u001b[0;34m\u001b[0m\u001b[0;34m\u001b[0m\u001b[0m\n",
      "\u001b[0;31mModuleNotFoundError\u001b[0m: No module named 'sage'"
     ]
    }
   ],
   "source": [
    "from cymetric.sage.sagelib import prepare_toric_cy_data\n",
    "\n",
    "work_dir = \"./ToricModel\"\n",
    "vertices = [[1, 0, 0, 0], [0, 1, 0, 0], [0, 0, 1, 0], [0, 0, 0, 1], [-1, -1, -1, 0], [2, 0, 0, -1]]  # P2 fibered over P2\n",
    "polytope = LatticePolytope(vertices)\n",
    "pConfig = PointConfiguration(polytope.points(), star=[0 for _ in range(len(vertices[0]))])\n",
    "triangs = pConfig.restrict_to_connected_triangulations().restrict_to_fine_triangulations().restrict_to_regular_triangulations().restrict_to_star_triangulations([0 for _ in range(len(vertices[0]))]).triangulations_list()\n",
    "triang = triangs[0]\n",
    "tv_fan = triang.fan()\n",
    "tv = ToricVariety(tv_fan)\n",
    "\n",
    "toric_data = prepare_toric_cy_data(tv, os.path.join(work_dir, \"toric_data.pickle\"))\n",
    "list(toric_data.keys())"
   ]
  },
  {
   "cell_type": "markdown",
   "metadata": {},
   "source": [
    "## Generate points"
   ]
  },
  {
   "cell_type": "code",
   "execution_count": 5,
   "metadata": {},
   "outputs": [],
   "source": [
    "work_dir = \"./ToricModel\"\n",
    "with open(os.path.join(work_dir, 'toric_data.pickle'), 'rb') as f:\n",
    "    toric_data = pickle.load(f)\n",
    "num_pts       = int(50000)\n",
    "precision     = int(10)\n",
    "verbose       = int(1)\n",
    "kmoduli       = np.ones(len(toric_data['exps_sections']))"
   ]
  },
  {
   "cell_type": "code",
   "execution_count": 6,
   "metadata": {},
   "outputs": [],
   "source": [
    "mathematica_pointgen = ToricPointGeneratorMathematica(toric_data, kmoduli, precision=precision, verbose=verbose)"
   ]
  },
  {
   "cell_type": "code",
   "execution_count": 7,
   "metadata": {},
   "outputs": [
    {
     "name": "stderr",
     "output_type": "stream",
     "text": [
      "WolframKernel-<tcp://127.0.0.1:60550>:INFO:Connected to logging socket: tcp://127.0.0.1:60550\n",
      "WolframKernel-<tcp://127.0.0.1:60550>:DEBUG:Evaluating a new expression.\n",
      "pointgenMathematica:DEBUG:Running with 10 Mathematica kernels.\n",
      "pointgenMathematica:DEBUG:Initializing generation of 50000 points...\n",
      "WolframKernel-<tcp://127.0.0.1:60550>:INFO:Number of points on CY from one ambient space intersection: 4\n",
      "WolframKernel-<tcp://127.0.0.1:60550>:INFO:Now generating 50000 points...\n",
      "WolframKernel-<tcp://127.0.0.1:60550>:INFO:Generated 0% of points\n",
      "WolframKernel-<tcp://127.0.0.1:60550>:INFO:Generated 5% of points\n",
      "WolframKernel-<tcp://127.0.0.1:60550>:INFO:Generated 10% of points\n",
      "WolframKernel-<tcp://127.0.0.1:60550>:INFO:Generated 15% of points\n",
      "WolframKernel-<tcp://127.0.0.1:60550>:INFO:Generated 20% of points\n",
      "WolframKernel-<tcp://127.0.0.1:60550>:INFO:Generated 25% of points\n",
      "WolframKernel-<tcp://127.0.0.1:60550>:INFO:Generated 30% of points\n",
      "WolframKernel-<tcp://127.0.0.1:60550>:INFO:Generated 35% of points\n",
      "WolframKernel-<tcp://127.0.0.1:60550>:INFO:Generated 40% of points\n",
      "WolframKernel-<tcp://127.0.0.1:60550>:INFO:Generated 45% of points\n",
      "WolframKernel-<tcp://127.0.0.1:60550>:INFO:Generated 50% of points\n",
      "WolframKernel-<tcp://127.0.0.1:60550>:INFO:Generated 55% of points\n",
      "WolframKernel-<tcp://127.0.0.1:60550>:INFO:Generated 60% of points\n",
      "WolframKernel-<tcp://127.0.0.1:60550>:INFO:Generated 65% of points\n",
      "WolframKernel-<tcp://127.0.0.1:60550>:INFO:Generated 70% of points\n",
      "WolframKernel-<tcp://127.0.0.1:60550>:INFO:Generated 75% of points\n",
      "WolframKernel-<tcp://127.0.0.1:60550>:INFO:Generated 80% of points\n",
      "WolframKernel-<tcp://127.0.0.1:60550>:INFO:Generated 85% of points\n",
      "WolframKernel-<tcp://127.0.0.1:60550>:INFO:Generated 90% of points\n",
      "WolframKernel-<tcp://127.0.0.1:60550>:INFO:Generated 95% of points\n",
      "WolframKernel-<tcp://127.0.0.1:60550>:INFO:done.\n"
     ]
    },
    {
     "name": "stdout",
     "output_type": "stream",
     "text": [
      "old (50000, 6)\n",
      "pm (50000,)\n",
      "new (49999, 6)\n"
     ]
    },
    {
     "name": "stderr",
     "output_type": "stream",
     "text": [
      "WolframKernel-<tcp://127.0.0.1:60596>:INFO:Connected to logging socket: tcp://127.0.0.1:60596\n",
      "WolframKernel-<tcp://127.0.0.1:60596>:DEBUG:Evaluating a new expression.\n",
      "pointgenMathematica:DEBUG:Running with 10 Mathematica kernels.\n",
      "pointgenMathematica:DEBUG:Initializing generation of 101 points...\n",
      "WolframKernel-<tcp://127.0.0.1:60596>:INFO:Number of points on CY from one ambient space intersection: 4\n",
      "WolframKernel-<tcp://127.0.0.1:60596>:INFO:Now generating 101 points...\n",
      "WolframKernel-<tcp://127.0.0.1:60596>:INFO:Generated 0% of points\n",
      "WolframKernel-<tcp://127.0.0.1:60596>:INFO:Generated 5% of points\n",
      "WolframKernel-<tcp://127.0.0.1:60596>:INFO:Generated 10% of points\n",
      "WolframKernel-<tcp://127.0.0.1:60596>:INFO:Generated 15% of points\n",
      "WolframKernel-<tcp://127.0.0.1:60596>:INFO:Generated 20% of points\n",
      "WolframKernel-<tcp://127.0.0.1:60596>:INFO:Generated 25% of points\n",
      "WolframKernel-<tcp://127.0.0.1:60596>:INFO:Generated 30% of points\n",
      "WolframKernel-<tcp://127.0.0.1:60596>:INFO:Generated 35% of points\n",
      "WolframKernel-<tcp://127.0.0.1:60596>:INFO:Generated 40% of points\n",
      "WolframKernel-<tcp://127.0.0.1:60596>:INFO:Generated 45% of points\n",
      "WolframKernel-<tcp://127.0.0.1:60596>:INFO:Generated 50% of points\n",
      "WolframKernel-<tcp://127.0.0.1:60596>:INFO:Generated 55% of points\n",
      "WolframKernel-<tcp://127.0.0.1:60596>:INFO:Generated 60% of points\n",
      "WolframKernel-<tcp://127.0.0.1:60596>:INFO:Generated 65% of points\n",
      "WolframKernel-<tcp://127.0.0.1:60596>:INFO:Generated 70% of points\n",
      "WolframKernel-<tcp://127.0.0.1:60596>:INFO:Generated 75% of points\n",
      "WolframKernel-<tcp://127.0.0.1:60596>:INFO:Generated 80% of points\n",
      "WolframKernel-<tcp://127.0.0.1:60596>:INFO:Generated 85% of points\n",
      "WolframKernel-<tcp://127.0.0.1:60596>:INFO:Generated 90% of points\n",
      "WolframKernel-<tcp://127.0.0.1:60596>:INFO:Generated 95% of points\n",
      "WolframKernel-<tcp://127.0.0.1:60596>:INFO:done.\n"
     ]
    },
    {
     "name": "stdout",
     "output_type": "stream",
     "text": [
      "old (101, 6)\n",
      "pm (101,)\n",
      "new (101, 6)\n"
     ]
    }
   ],
   "source": [
    "kappa = mathematica_pointgen.prepare_dataset(num_pts, work_dir)\n",
    "prepare_basis_pickle(mathematica_pointgen, work_dir, kappa);"
   ]
  },
  {
   "cell_type": "markdown",
   "metadata": {},
   "source": [
    "## set up NN"
   ]
  },
  {
   "cell_type": "markdown",
   "metadata": {},
   "source": [
    "load in data"
   ]
  },
  {
   "cell_type": "code",
   "execution_count": 16,
   "metadata": {},
   "outputs": [],
   "source": [
    "tf.get_logger().setLevel('ERROR')\n",
    "data = np.load(os.path.join(work_dir, 'dataset.npz'))\n",
    "toric_data = np.load(os.path.join(work_dir, 'toric_data.pickle'), allow_pickle=True)\n",
    "BASIS = prepare_tf_basis(np.load(os.path.join(work_dir, 'basis.pickle'), allow_pickle=True))"
   ]
  },
  {
   "cell_type": "markdown",
   "metadata": {},
   "source": [
    "set up NN callbacks (info on training process)"
   ]
  },
  {
   "cell_type": "code",
   "execution_count": 17,
   "metadata": {},
   "outputs": [],
   "source": [
    "scb = SigmaCallback((data['X_val'], data['y_val']))\n",
    "rcb = RicciCallback((data['X_val'], data['y_val']), data['val_pullbacks'])\n",
    "volkck = VolkCallback((data['X_val'], data['y_val']))\n",
    "cb_list = [scb, volkck, rcb]\n",
    "\n",
    "cmetrics = [SigmaLoss(), VolkLoss()]"
   ]
  },
  {
   "cell_type": "markdown",
   "metadata": {},
   "source": [
    "define the NN hyperparameters (wrapping everything in int() and float() is necessary in sage)"
   ]
  },
  {
   "cell_type": "code",
   "execution_count": 18,
   "metadata": {},
   "outputs": [],
   "source": [
    "nfold       = int(BASIS['NFOLD'].numpy().real)\n",
    "amb         = [int(6)]\n",
    "n_in        = int(12)\n",
    "n_out       = int(1)\n",
    "n_hiddens   = [int(64), int(64), int(64)]\n",
    "acts        = ['gelu', 'gelu', 'gelu']\n",
    "n_epochs    = int(30)\n",
    "batch_sizes = [int(64), int(50000)]\n",
    "alpha       = [float(1.), float(1.), float(1.), float(1.), float(5.)]"
   ]
  },
  {
   "cell_type": "markdown",
   "metadata": {},
   "source": [
    "initialize the NN and the Toric Phi Model"
   ]
  },
  {
   "cell_type": "code",
   "execution_count": 19,
   "metadata": {},
   "outputs": [],
   "source": [
    "model = tf.keras.Sequential()\n",
    "model.add(tf.keras.Input(shape=(int(n_in))))\n",
    "for n_hidden, act in zip(n_hiddens, acts):\n",
    "    model.add(tf.keras.layers.Dense(n_hidden, activation=act))\n",
    "model.add(tf.keras.layers.Dense(n_out, use_bias=False))\n",
    "\n",
    "fs_model = PhiFSModelToric(model, BASIS, alpha=alpha, toric_data=toric_data)"
   ]
  },
  {
   "cell_type": "markdown",
   "metadata": {},
   "source": [
    "## train NN"
   ]
  },
  {
   "cell_type": "code",
   "execution_count": 20,
   "metadata": {
    "scrolled": true
   },
   "outputs": [
    {
     "name": "stdout",
     "output_type": "stream",
     "text": [
      "\n",
      "Epoch  1/30\n",
      " - Sigma measure val:      0.4997\n",
      " - Volk val:               19.2069\n",
      " - Ricci measure val:      7.3693\n",
      "700/704 [============================>.] - ETA: 0s - sigma_loss: 0.3643 - volk_loss: 0.0000e+00 - Sigma measure val:      0.3800\n",
      " - Volk val:               13.6442\n",
      " - Ricci measure val:      6.4771\n",
      "704/704 [==============================] - 17s 19ms/step - sigma_loss: 0.3641 - volk_loss: 0.0000e+00 - sigma_val: 0.3800 - volk_val: 13.6442 - ricci_val: 6.4771\n",
      " - Sigma measure val:      0.3800\n",
      " - Volk val:               13.6442\n",
      " - Ricci measure val:      6.4771\n",
      "1/1 [==============================] - ETA: 0s - sigma_loss: 0.3110 - volk_loss: 6.0000 - Sigma measure val:      0.3806\n",
      " - Volk val:               13.3226\n",
      " - Ricci measure val:      6.6084\n",
      "1/1 [==============================] - 15s 15s/step - sigma_loss: 0.3110 - volk_loss: 6.0000 - sigma_val: 0.3806 - volk_val: 13.3226 - ricci_val: 6.6084\n",
      "\n",
      "Epoch  2/30\n",
      " - Sigma measure val:      0.3806\n",
      " - Volk val:               13.3226\n",
      " - Ricci measure val:      6.6084\n",
      "699/704 [============================>.] - ETA: 0s - sigma_loss: 0.2964 - volk_loss: 0.0000e+00 - Sigma measure val:      0.3432\n",
      " - Volk val:               14.5608\n",
      " - Ricci measure val:      6.8943\n",
      "704/704 [==============================] - 15s 18ms/step - sigma_loss: 0.2960 - volk_loss: 0.0000e+00 - sigma_val: 0.3432 - volk_val: 14.5608 - ricci_val: 6.8943\n",
      " - Sigma measure val:      0.3432\n",
      " - Volk val:               14.5608\n",
      " - Ricci measure val:      6.8943\n",
      "1/1 [==============================] - ETA: 0s - sigma_loss: 0.2863 - volk_loss: 6.3539 - Sigma measure val:      0.3460\n",
      " - Volk val:               14.1159\n",
      " - Ricci measure val:      7.9340\n",
      "1/1 [==============================] - 12s 12s/step - sigma_loss: 0.2863 - volk_loss: 6.3539 - sigma_val: 0.3460 - volk_val: 14.1159 - ricci_val: 7.9340\n",
      "\n",
      "Epoch  3/30\n",
      " - Sigma measure val:      0.3460\n",
      " - Volk val:               14.1159\n",
      " - Ricci measure val:      7.9340\n",
      "700/704 [============================>.] - ETA: 0s - sigma_loss: 0.2726 - volk_loss: 0.0000e+00 - Sigma measure val:      0.3204\n",
      " - Volk val:               15.8927\n",
      " - Ricci measure val:      36.3966\n",
      "704/704 [==============================] - 15s 18ms/step - sigma_loss: 0.2726 - volk_loss: 0.0000e+00 - sigma_val: 0.3204 - volk_val: 15.8927 - ricci_val: 36.3966\n",
      " - Sigma measure val:      0.3204\n",
      " - Volk val:               15.8927\n",
      " - Ricci measure val:      36.3966\n",
      "1/1 [==============================] - ETA: 0s - sigma_loss: 0.2628 - volk_loss: 7.3408 - Sigma measure val:      0.3206\n",
      " - Volk val:               15.6261\n",
      " - Ricci measure val:      35.2668\n",
      "1/1 [==============================] - 13s 13s/step - sigma_loss: 0.2628 - volk_loss: 7.3408 - sigma_val: 0.3206 - volk_val: 15.6261 - ricci_val: 35.2668\n",
      "\n",
      "Epoch  4/30\n",
      " - Sigma measure val:      0.3206\n",
      " - Volk val:               15.6261\n",
      " - Ricci measure val:      35.2668\n",
      "699/704 [============================>.] - ETA: 0s - sigma_loss: 0.2529 - volk_loss: 0.0000e+00 - Sigma measure val:      0.2983\n",
      " - Volk val:               16.4307\n",
      " - Ricci measure val:      61.4537\n",
      "704/704 [==============================] - 15s 18ms/step - sigma_loss: 0.2529 - volk_loss: 0.0000e+00 - sigma_val: 0.2983 - volk_val: 16.4307 - ricci_val: 61.4537\n",
      " - Sigma measure val:      0.2983\n",
      " - Volk val:               16.4307\n",
      " - Ricci measure val:      61.4537\n",
      "1/1 [==============================] - ETA: 0s - sigma_loss: 0.2433 - volk_loss: 7.6636 - Sigma measure val:      0.2990\n",
      " - Volk val:               16.3346\n",
      " - Ricci measure val:      381.4135\n",
      "1/1 [==============================] - 13s 13s/step - sigma_loss: 0.2433 - volk_loss: 7.6636 - sigma_val: 0.2990 - volk_val: 16.3346 - ricci_val: 381.4135\n",
      "\n",
      "Epoch  5/30\n",
      " - Sigma measure val:      0.2990\n",
      " - Volk val:               16.3346\n",
      " - Ricci measure val:      381.4133\n",
      "699/704 [============================>.] - ETA: 0s - sigma_loss: 0.2381 - volk_loss: 0.0000e+00 - Sigma measure val:      0.2925\n",
      " - Volk val:               16.2912\n",
      " - Ricci measure val:      6.2015\n",
      "704/704 [==============================] - 14s 17ms/step - sigma_loss: 0.2382 - volk_loss: 0.0000e+00 - sigma_val: 0.2925 - volk_val: 16.2912 - ricci_val: 6.2015\n",
      " - Sigma measure val:      0.2925\n",
      " - Volk val:               16.2912\n",
      " - Ricci measure val:      6.2015\n",
      "1/1 [==============================] - ETA: 0s - sigma_loss: 0.2334 - volk_loss: 7.4971 - Sigma measure val:      0.2931\n",
      " - Volk val:               16.3790\n",
      " - Ricci measure val:      6.3081\n",
      "1/1 [==============================] - 13s 13s/step - sigma_loss: 0.2334 - volk_loss: 7.4971 - sigma_val: 0.2931 - volk_val: 16.3790 - ricci_val: 6.3081\n",
      "\n",
      "Epoch  6/30\n",
      " - Sigma measure val:      0.2931\n",
      " - Volk val:               16.3790\n",
      " - Ricci measure val:      6.3081\n",
      "701/704 [============================>.] - ETA: 0s - sigma_loss: 0.2274 - volk_loss: 0.0000e+00 - Sigma measure val:      0.2794\n",
      " - Volk val:               16.2113\n",
      " - Ricci measure val:      -2.3676e+01\n",
      "704/704 [==============================] - 17s 21ms/step - sigma_loss: 0.2273 - volk_loss: 0.0000e+00 - sigma_val: 0.2794 - volk_val: 16.2113 - ricci_val: -23.6762\n",
      " - Sigma measure val:      0.2794\n",
      " - Volk val:               16.2113\n",
      " - Ricci measure val:      -2.3676e+01\n",
      "1/1 [==============================] - ETA: 0s - sigma_loss: 0.2165 - volk_loss: 7.4575 - Sigma measure val:      0.2788\n",
      " - Volk val:               15.9034\n",
      " - Ricci measure val:      -4.1622e+02\n",
      "1/1 [==============================] - 12s 12s/step - sigma_loss: 0.2165 - volk_loss: 7.4575 - sigma_val: 0.2788 - volk_val: 15.9034 - ricci_val: -416.2155\n",
      "\n",
      "Epoch  7/30\n",
      " - Sigma measure val:      0.2788\n",
      " - Volk val:               15.9034\n",
      " - Ricci measure val:      -4.1622e+02\n",
      "700/704 [============================>.] - ETA: 0s - sigma_loss: 0.2174 - volk_loss: 0.0000e+00 - Sigma measure val:      0.2720\n",
      " - Volk val:               16.7582\n",
      " - Ricci measure val:      5.7744\n",
      "704/704 [==============================] - 15s 19ms/step - sigma_loss: 0.2173 - volk_loss: 0.0000e+00 - sigma_val: 0.2720 - volk_val: 16.7582 - ricci_val: 5.7744\n",
      " - Sigma measure val:      0.2720\n",
      " - Volk val:               16.7582\n",
      " - Ricci measure val:      5.7744\n",
      "1/1 [==============================] - ETA: 0s - sigma_loss: 0.2162 - volk_loss: 7.8297 - Sigma measure val:      0.2711\n",
      " - Volk val:               16.6990\n",
      " - Ricci measure val:      5.4807\n",
      "1/1 [==============================] - 13s 13s/step - sigma_loss: 0.2162 - volk_loss: 7.8297 - sigma_val: 0.2711 - volk_val: 16.6990 - ricci_val: 5.4807\n",
      "\n",
      "Epoch  8/30\n",
      " - Sigma measure val:      0.2711\n",
      " - Volk val:               16.6990\n",
      " - Ricci measure val:      5.4807\n",
      "704/704 [==============================] - ETA: 0s - sigma_loss: 0.2102 - volk_loss: 0.0000e+00 - Sigma measure val:      0.2663\n",
      " - Volk val:               16.1665\n",
      " - Ricci measure val:      6.1571\n",
      "704/704 [==============================] - 16s 19ms/step - sigma_loss: 0.2102 - volk_loss: 0.0000e+00 - sigma_val: 0.2663 - volk_val: 16.1665 - ricci_val: 6.1571\n",
      " - Sigma measure val:      0.2663\n",
      " - Volk val:               16.1665\n",
      " - Ricci measure val:      6.1571\n",
      "1/1 [==============================] - ETA: 0s - sigma_loss: 0.2073 - volk_loss: 7.4129 - Sigma measure val:      0.2671\n",
      " - Volk val:               16.0474\n",
      " - Ricci measure val:      6.1374\n",
      "1/1 [==============================] - 13s 13s/step - sigma_loss: 0.2073 - volk_loss: 7.4129 - sigma_val: 0.2671 - volk_val: 16.0474 - ricci_val: 6.1374\n",
      "\n",
      "Epoch  9/30\n",
      " - Sigma measure val:      0.2671\n",
      " - Volk val:               16.0474\n",
      " - Ricci measure val:      6.1374\n",
      "700/704 [============================>.] - ETA: 0s - sigma_loss: 0.2028 - volk_loss: 0.0000e+00 - Sigma measure val:      0.2585\n",
      " - Volk val:               16.9169\n",
      " - Ricci measure val:      6.5262\n",
      "704/704 [==============================] - 19s 19ms/step - sigma_loss: 0.2028 - volk_loss: 0.0000e+00 - sigma_val: 0.2585 - volk_val: 16.9169 - ricci_val: 6.5262\n",
      " - Sigma measure val:      0.2585\n",
      " - Volk val:               16.9169\n",
      " - Ricci measure val:      6.5262\n",
      "1/1 [==============================] - ETA: 0s - sigma_loss: 0.1956 - volk_loss: 7.9543 - Sigma measure val:      0.2597\n",
      " - Volk val:               16.8085\n",
      " - Ricci measure val:      6.4204\n",
      "1/1 [==============================] - 13s 13s/step - sigma_loss: 0.1956 - volk_loss: 7.9543 - sigma_val: 0.2597 - volk_val: 16.8085 - ricci_val: 6.4204\n"
     ]
    },
    {
     "name": "stdout",
     "output_type": "stream",
     "text": [
      "\n",
      "Epoch 10/30\n",
      " - Sigma measure val:      0.2597\n",
      " - Volk val:               16.8085\n",
      " - Ricci measure val:      6.4204\n",
      "704/704 [==============================] - ETA: 0s - sigma_loss: 0.1973 - volk_loss: 0.0000e+00 - Sigma measure val:      0.2521\n",
      " - Volk val:               16.8245\n",
      " - Ricci measure val:      6.7453\n",
      "704/704 [==============================] - 15s 18ms/step - sigma_loss: 0.1973 - volk_loss: 0.0000e+00 - sigma_val: 0.2521 - volk_val: 16.8245 - ricci_val: 6.7453\n",
      " - Sigma measure val:      0.2521\n",
      " - Volk val:               16.8245\n",
      " - Ricci measure val:      6.7453\n",
      "1/1 [==============================] - ETA: 0s - sigma_loss: 0.1934 - volk_loss: 7.8968 - Sigma measure val:      0.2521\n",
      " - Volk val:               16.6029\n",
      " - Ricci measure val:      6.7408\n",
      "1/1 [==============================] - 13s 13s/step - sigma_loss: 0.1934 - volk_loss: 7.8968 - sigma_val: 0.2521 - volk_val: 16.6029 - ricci_val: 6.7408\n",
      "\n",
      "Epoch 11/30\n",
      " - Sigma measure val:      0.2521\n",
      " - Volk val:               16.6029\n",
      " - Ricci measure val:      6.7408\n",
      "700/704 [============================>.] - ETA: 0s - sigma_loss: 0.1929 - volk_loss: 0.0000e+00 - Sigma measure val:      0.2487\n",
      " - Volk val:               17.0382\n",
      " - Ricci measure val:      5.2536\n",
      "704/704 [==============================] - 15s 18ms/step - sigma_loss: 0.1928 - volk_loss: 0.0000e+00 - sigma_val: 0.2487 - volk_val: 17.0382 - ricci_val: 5.2536\n",
      " - Sigma measure val:      0.2487\n",
      " - Volk val:               17.0382\n",
      " - Ricci measure val:      5.2536\n",
      "1/1 [==============================] - ETA: 0s - sigma_loss: 0.1875 - volk_loss: 7.9836 - Sigma measure val:      0.2489\n",
      " - Volk val:               16.8900\n",
      " - Ricci measure val:      5.9799\n",
      "1/1 [==============================] - 13s 13s/step - sigma_loss: 0.1875 - volk_loss: 7.9836 - sigma_val: 0.2489 - volk_val: 16.8900 - ricci_val: 5.9799\n",
      "\n",
      "Epoch 12/30\n",
      " - Sigma measure val:      0.2489\n",
      " - Volk val:               16.8900\n",
      " - Ricci measure val:      5.9799\n",
      "702/704 [============================>.] - ETA: 0s - sigma_loss: 0.1875 - volk_loss: 0.0000e+00 - Sigma measure val:      0.2434\n",
      " - Volk val:               16.4476\n",
      " - Ricci measure val:      7.1919\n",
      "704/704 [==============================] - 15s 18ms/step - sigma_loss: 0.1875 - volk_loss: 0.0000e+00 - sigma_val: 0.2434 - volk_val: 16.4476 - ricci_val: 7.1919\n",
      " - Sigma measure val:      0.2434\n",
      " - Volk val:               16.4476\n",
      " - Ricci measure val:      7.1919\n",
      "1/1 [==============================] - ETA: 0s - sigma_loss: 0.1810 - volk_loss: 7.6443 - Sigma measure val:      0.2432\n",
      " - Volk val:               16.2163\n",
      " - Ricci measure val:      9.7654\n",
      "1/1 [==============================] - 13s 13s/step - sigma_loss: 0.1810 - volk_loss: 7.6443 - sigma_val: 0.2432 - volk_val: 16.2163 - ricci_val: 9.7654\n",
      "\n",
      "Epoch 13/30\n",
      " - Sigma measure val:      0.2432\n",
      " - Volk val:               16.2163\n",
      " - Ricci measure val:      9.7654\n",
      "701/704 [============================>.] - ETA: 0s - sigma_loss: 0.1837 - volk_loss: 0.0000e+00 - Sigma measure val:      0.2399\n",
      " - Volk val:               16.7987\n",
      " - Ricci measure val:      7.6982\n",
      "704/704 [==============================] - 15s 19ms/step - sigma_loss: 0.1837 - volk_loss: 0.0000e+00 - sigma_val: 0.2399 - volk_val: 16.7987 - ricci_val: 7.6982\n",
      " - Sigma measure val:      0.2399\n",
      " - Volk val:               16.7987\n",
      " - Ricci measure val:      7.6982\n",
      "1/1 [==============================] - ETA: 0s - sigma_loss: 0.1771 - volk_loss: 7.8845 - Sigma measure val:      0.2401\n",
      " - Volk val:               16.7181\n",
      " - Ricci measure val:      11.2935\n",
      "1/1 [==============================] - 13s 13s/step - sigma_loss: 0.1771 - volk_loss: 7.8845 - sigma_val: 0.2401 - volk_val: 16.7181 - ricci_val: 11.2935\n",
      "\n",
      "Epoch 14/30\n",
      " - Sigma measure val:      0.2401\n",
      " - Volk val:               16.7181\n",
      " - Ricci measure val:      11.2935\n",
      "699/704 [============================>.] - ETA: 0s - sigma_loss: 0.1794 - volk_loss: 0.0000e+00 - Sigma measure val:      0.2390\n",
      " - Volk val:               17.3766\n",
      " - Ricci measure val:      6.5124\n",
      "704/704 [==============================] - 15s 18ms/step - sigma_loss: 0.1792 - volk_loss: 0.0000e+00 - sigma_val: 0.2390 - volk_val: 17.3766 - ricci_val: 6.5124\n",
      " - Sigma measure val:      0.2390\n",
      " - Volk val:               17.3766\n",
      " - Ricci measure val:      6.5124\n",
      "1/1 [==============================] - ETA: 0s - sigma_loss: 0.1735 - volk_loss: 8.2844 - Sigma measure val:      0.2391\n",
      " - Volk val:               17.2220\n",
      " - Ricci measure val:      6.4742\n",
      "1/1 [==============================] - 13s 13s/step - sigma_loss: 0.1735 - volk_loss: 8.2844 - sigma_val: 0.2391 - volk_val: 17.2220 - ricci_val: 6.4742\n",
      "\n",
      "Epoch 15/30\n",
      " - Sigma measure val:      0.2391\n",
      " - Volk val:               17.2220\n",
      " - Ricci measure val:      6.4742\n",
      "701/704 [============================>.] - ETA: 0s - sigma_loss: 0.1765 - volk_loss: 0.0000e+00 - Sigma measure val:      0.2335\n",
      " - Volk val:               17.2553\n",
      " - Ricci measure val:      6.9655\n",
      "704/704 [==============================] - 14s 17ms/step - sigma_loss: 0.1764 - volk_loss: 0.0000e+00 - sigma_val: 0.2335 - volk_val: 17.2553 - ricci_val: 6.9655\n",
      " - Sigma measure val:      0.2335\n",
      " - Volk val:               17.2553\n",
      " - Ricci measure val:      6.9655\n",
      "1/1 [==============================] - ETA: 0s - sigma_loss: 0.1709 - volk_loss: 8.1948 - Sigma measure val:      0.2343\n",
      " - Volk val:               17.0760\n",
      " - Ricci measure val:      6.9239\n",
      "1/1 [==============================] - 13s 13s/step - sigma_loss: 0.1709 - volk_loss: 8.1948 - sigma_val: 0.2343 - volk_val: 17.0760 - ricci_val: 6.9239\n",
      "\n",
      "Epoch 16/30\n",
      " - Sigma measure val:      0.2343\n",
      " - Volk val:               17.0760\n",
      " - Ricci measure val:      6.9239\n",
      "699/704 [============================>.] - ETA: 0s - sigma_loss: 0.1730 - volk_loss: 0.0000e+00 - Sigma measure val:      0.2390\n",
      " - Volk val:               17.1254\n",
      " - Ricci measure val:      6.5725\n",
      "704/704 [==============================] - 18s 17ms/step - sigma_loss: 0.1731 - volk_loss: 0.0000e+00 - sigma_val: 0.2390 - volk_val: 17.1254 - ricci_val: 6.5725\n",
      " - Sigma measure val:      0.2390\n",
      " - Volk val:               17.1254\n",
      " - Ricci measure val:      6.5725\n",
      "1/1 [==============================] - ETA: 0s - sigma_loss: 0.1723 - volk_loss: 8.1115 - Sigma measure val:      0.2394\n",
      " - Volk val:               16.9962\n",
      " - Ricci measure val:      6.5225\n",
      "1/1 [==============================] - 13s 13s/step - sigma_loss: 0.1723 - volk_loss: 8.1115 - sigma_val: 0.2394 - volk_val: 16.9962 - ricci_val: 6.5225\n",
      "\n",
      "Epoch 17/30\n",
      " - Sigma measure val:      0.2394\n",
      " - Volk val:               16.9962\n",
      " - Ricci measure val:      6.5225\n",
      "702/704 [============================>.] - ETA: 0s - sigma_loss: 0.1702 - volk_loss: 0.0000e+00 - Sigma measure val:      0.2349\n",
      " - Volk val:               17.1234\n",
      " - Ricci measure val:      6.3861\n",
      "704/704 [==============================] - 15s 18ms/step - sigma_loss: 0.1702 - volk_loss: 0.0000e+00 - sigma_val: 0.2349 - volk_val: 17.1234 - ricci_val: 6.3861\n",
      " - Sigma measure val:      0.2349\n",
      " - Volk val:               17.1234\n",
      " - Ricci measure val:      6.3861\n",
      "1/1 [==============================] - ETA: 0s - sigma_loss: 0.1654 - volk_loss: 8.1191 - Sigma measure val:      0.2353\n",
      " - Volk val:               17.0394\n",
      " - Ricci measure val:      6.3646\n",
      "1/1 [==============================] - 13s 13s/step - sigma_loss: 0.1654 - volk_loss: 8.1191 - sigma_val: 0.2353 - volk_val: 17.0394 - ricci_val: 6.3646\n",
      "\n",
      "Epoch 18/30\n",
      " - Sigma measure val:      0.2353\n",
      " - Volk val:               17.0394\n",
      " - Ricci measure val:      6.3646\n",
      "701/704 [============================>.] - ETA: 0s - sigma_loss: 0.1669 - volk_loss: 0.0000e+00 - Sigma measure val:      0.2291\n",
      " - Volk val:               17.7584\n",
      " - Ricci measure val:      6.6813\n",
      "704/704 [==============================] - 15s 18ms/step - sigma_loss: 0.1669 - volk_loss: 0.0000e+00 - sigma_val: 0.2291 - volk_val: 17.7584 - ricci_val: 6.6813\n",
      " - Sigma measure val:      0.2291\n",
      " - Volk val:               17.7584\n",
      " - Ricci measure val:      6.6813\n",
      "1/1 [==============================] - ETA: 0s - sigma_loss: 0.1654 - volk_loss: 8.5330 - Sigma measure val:      0.2285\n",
      " - Volk val:               17.6931\n",
      " - Ricci measure val:      7.0394\n",
      "1/1 [==============================] - 13s 13s/step - sigma_loss: 0.1654 - volk_loss: 8.5330 - sigma_val: 0.2285 - volk_val: 17.6931 - ricci_val: 7.0394\n"
     ]
    },
    {
     "name": "stdout",
     "output_type": "stream",
     "text": [
      "\n",
      "Epoch 19/30\n",
      " - Sigma measure val:      0.2285\n",
      " - Volk val:               17.6931\n",
      " - Ricci measure val:      7.0394\n",
      "700/704 [============================>.] - ETA: 0s - sigma_loss: 0.1651 - volk_loss: 0.0000e+00 - Sigma measure val:      0.2258\n",
      " - Volk val:               17.4153\n",
      " - Ricci measure val:      3.3294\n",
      "704/704 [==============================] - 15s 18ms/step - sigma_loss: 0.1651 - volk_loss: 0.0000e+00 - sigma_val: 0.2258 - volk_val: 17.4153 - ricci_val: 3.3294\n",
      " - Sigma measure val:      0.2258\n",
      " - Volk val:               17.4153\n",
      " - Ricci measure val:      3.3294\n",
      "1/1 [==============================] - ETA: 0s - sigma_loss: 0.1606 - volk_loss: 8.2895 - Sigma measure val:      0.2258\n",
      " - Volk val:               17.2385\n",
      " - Ricci measure val:      5.3426\n",
      "1/1 [==============================] - 13s 13s/step - sigma_loss: 0.1606 - volk_loss: 8.2895 - sigma_val: 0.2258 - volk_val: 17.2385 - ricci_val: 5.3426\n",
      "\n",
      "Epoch 20/30\n",
      " - Sigma measure val:      0.2258\n",
      " - Volk val:               17.2385\n",
      " - Ricci measure val:      5.3426\n",
      "701/704 [============================>.] - ETA: 0s - sigma_loss: 0.1621 - volk_loss: 0.0000e+00 - Sigma measure val:      0.2176\n",
      " - Volk val:               17.8921\n",
      " - Ricci measure val:      6.6306\n",
      "704/704 [==============================] - 20s 19ms/step - sigma_loss: 0.1620 - volk_loss: 0.0000e+00 - sigma_val: 0.2176 - volk_val: 17.8921 - ricci_val: 6.6306\n",
      " - Sigma measure val:      0.2176\n",
      " - Volk val:               17.8921\n",
      " - Ricci measure val:      6.6306\n",
      "1/1 [==============================] - ETA: 0s - sigma_loss: 0.1590 - volk_loss: 8.6157 - Sigma measure val:      0.2181\n",
      " - Volk val:               17.7263\n",
      " - Ricci measure val:      6.5758\n",
      "1/1 [==============================] - 14s 14s/step - sigma_loss: 0.1590 - volk_loss: 8.6157 - sigma_val: 0.2181 - volk_val: 17.7263 - ricci_val: 6.5758\n",
      "\n",
      "Epoch 21/30\n",
      " - Sigma measure val:      0.2181\n",
      " - Volk val:               17.7263\n",
      " - Ricci measure val:      6.5758\n",
      "700/704 [============================>.] - ETA: 0s - sigma_loss: 0.1603 - volk_loss: 0.0000e+00 - Sigma measure val:      0.2232\n",
      " - Volk val:               17.3680\n",
      " - Ricci measure val:      6.3998\n",
      "704/704 [==============================] - 15s 19ms/step - sigma_loss: 0.1603 - volk_loss: 0.0000e+00 - sigma_val: 0.2232 - volk_val: 17.3680 - ricci_val: 6.3998\n",
      " - Sigma measure val:      0.2232\n",
      " - Volk val:               17.3680\n",
      " - Ricci measure val:      6.3998\n",
      "1/1 [==============================] - ETA: 0s - sigma_loss: 0.1549 - volk_loss: 8.2740 - Sigma measure val:      0.2236\n",
      " - Volk val:               17.2767\n",
      " - Ricci measure val:      6.3878\n",
      "1/1 [==============================] - 13s 13s/step - sigma_loss: 0.1549 - volk_loss: 8.2740 - sigma_val: 0.2236 - volk_val: 17.2767 - ricci_val: 6.3878\n",
      "\n",
      "Epoch 22/30\n",
      " - Sigma measure val:      0.2236\n",
      " - Volk val:               17.2767\n",
      " - Ricci measure val:      6.3878\n",
      "701/704 [============================>.] - ETA: 0s - sigma_loss: 0.1578 - volk_loss: 0.0000e+00 - Sigma measure val:      0.2170\n",
      " - Volk val:               17.4690\n",
      " - Ricci measure val:      6.7136\n",
      "704/704 [==============================] - 15s 19ms/step - sigma_loss: 0.1577 - volk_loss: 0.0000e+00 - sigma_val: 0.2170 - volk_val: 17.4690 - ricci_val: 6.7136\n",
      " - Sigma measure val:      0.2170\n",
      " - Volk val:               17.4690\n",
      " - Ricci measure val:      6.7136\n",
      "1/1 [==============================] - ETA: 0s - sigma_loss: 0.1529 - volk_loss: 8.3500 - Sigma measure val:      0.2172\n",
      " - Volk val:               17.3594\n",
      " - Ricci measure val:      7.7075\n",
      "1/1 [==============================] - 14s 14s/step - sigma_loss: 0.1529 - volk_loss: 8.3500 - sigma_val: 0.2172 - volk_val: 17.3594 - ricci_val: 7.7075\n",
      "\n",
      "Epoch 23/30\n",
      " - Sigma measure val:      0.2172\n",
      " - Volk val:               17.3594\n",
      " - Ricci measure val:      7.7075\n",
      "700/704 [============================>.] - ETA: 0s - sigma_loss: 0.1562 - volk_loss: 0.0000e+00 - Sigma measure val:      0.2185\n",
      " - Volk val:               17.1169\n",
      " - Ricci measure val:      6.8385\n",
      "704/704 [==============================] - 15s 18ms/step - sigma_loss: 0.1561 - volk_loss: 0.0000e+00 - sigma_val: 0.2185 - volk_val: 17.1169 - ricci_val: 6.8385\n",
      " - Sigma measure val:      0.2185\n",
      " - Volk val:               17.1169\n",
      " - Ricci measure val:      6.8385\n",
      "1/1 [==============================] - ETA: 0s - sigma_loss: 0.1563 - volk_loss: 8.1059 - Sigma measure val:      0.2184\n",
      " - Volk val:               17.0697\n",
      " - Ricci measure val:      6.7323\n",
      "1/1 [==============================] - 14s 14s/step - sigma_loss: 0.1563 - volk_loss: 8.1059 - sigma_val: 0.2184 - volk_val: 17.0697 - ricci_val: 6.7323\n",
      "\n",
      "Epoch 24/30\n",
      " - Sigma measure val:      0.2184\n",
      " - Volk val:               17.0697\n",
      " - Ricci measure val:      6.7323\n",
      "700/704 [============================>.] - ETA: 0s - sigma_loss: 0.1540 - volk_loss: 0.0000e+00 - Sigma measure val:      0.2201\n",
      " - Volk val:               17.6930\n",
      " - Ricci measure val:      6.6079\n",
      "704/704 [==============================] - 15s 18ms/step - sigma_loss: 0.1540 - volk_loss: 0.0000e+00 - sigma_val: 0.2201 - volk_val: 17.6930 - ricci_val: 6.6079\n",
      " - Sigma measure val:      0.2201\n",
      " - Volk val:               17.6930\n",
      " - Ricci measure val:      6.6079\n",
      "1/1 [==============================] - ETA: 0s - sigma_loss: 0.1565 - volk_loss: 8.5228 - Sigma measure val:      0.2208\n",
      " - Volk val:               17.5732\n",
      " - Ricci measure val:      6.5698\n",
      "1/1 [==============================] - 13s 13s/step - sigma_loss: 0.1565 - volk_loss: 8.5228 - sigma_val: 0.2208 - volk_val: 17.5732 - ricci_val: 6.5698\n",
      "\n",
      "Epoch 25/30\n",
      " - Sigma measure val:      0.2208\n",
      " - Volk val:               17.5732\n",
      " - Ricci measure val:      6.5698\n",
      "700/704 [============================>.] - ETA: 0s - sigma_loss: 0.1524 - volk_loss: 0.0000e+00 - Sigma measure val:      0.2118\n",
      " - Volk val:               17.7389\n",
      " - Ricci measure val:      6.5940\n",
      "704/704 [==============================] - 16s 19ms/step - sigma_loss: 0.1524 - volk_loss: 0.0000e+00 - sigma_val: 0.2118 - volk_val: 17.7389 - ricci_val: 6.5940\n",
      " - Sigma measure val:      0.2118\n",
      " - Volk val:               17.7389\n",
      " - Ricci measure val:      6.5940\n",
      "1/1 [==============================] - ETA: 0s - sigma_loss: 0.1486 - volk_loss: 8.5413 - Sigma measure val:      0.2120\n",
      " - Volk val:               17.6334\n",
      " - Ricci measure val:      6.5920\n",
      "1/1 [==============================] - 14s 14s/step - sigma_loss: 0.1486 - volk_loss: 8.5413 - sigma_val: 0.2120 - volk_val: 17.6334 - ricci_val: 6.5920\n",
      "\n",
      "Epoch 26/30\n",
      " - Sigma measure val:      0.2120\n",
      " - Volk val:               17.6334\n",
      " - Ricci measure val:      6.5920\n",
      "699/704 [============================>.] - ETA: 0s - sigma_loss: 0.1502 - volk_loss: 0.0000e+00 - Sigma measure val:      0.2068\n",
      " - Volk val:               17.8666\n",
      " - Ricci measure val:      8.9432\n",
      "704/704 [==============================] - 15s 19ms/step - sigma_loss: 0.1502 - volk_loss: 0.0000e+00 - sigma_val: 0.2068 - volk_val: 17.8666 - ricci_val: 8.9432\n",
      " - Sigma measure val:      0.2068\n",
      " - Volk val:               17.8666\n",
      " - Ricci measure val:      8.9432\n",
      "1/1 [==============================] - ETA: 0s - sigma_loss: 0.1466 - volk_loss: 8.6322 - Sigma measure val:      0.2066\n",
      " - Volk val:               17.7428\n",
      " - Ricci measure val:      8.6898\n",
      "1/1 [==============================] - 15s 15s/step - sigma_loss: 0.1466 - volk_loss: 8.6322 - sigma_val: 0.2066 - volk_val: 17.7428 - ricci_val: 8.6898\n",
      "\n",
      "Epoch 27/30\n",
      " - Sigma measure val:      0.2066\n",
      " - Volk val:               17.7428\n",
      " - Ricci measure val:      8.6898\n",
      "702/704 [============================>.] - ETA: 0s - sigma_loss: 0.1488 - volk_loss: 0.0000e+00 - Sigma measure val:      0.2065\n",
      " - Volk val:               17.8335\n",
      " - Ricci measure val:      7.1954\n",
      "704/704 [==============================] - 15s 18ms/step - sigma_loss: 0.1488 - volk_loss: 0.0000e+00 - sigma_val: 0.2065 - volk_val: 17.8335 - ricci_val: 7.1954\n",
      " - Sigma measure val:      0.2065\n",
      " - Volk val:               17.8335\n",
      " - Ricci measure val:      7.1954\n",
      "1/1 [==============================] - ETA: 0s - sigma_loss: 0.1454 - volk_loss: 8.5489 - Sigma measure val:      0.2067\n",
      " - Volk val:               17.6793\n",
      " - Ricci measure val:      7.5506\n",
      "1/1 [==============================] - 13s 13s/step - sigma_loss: 0.1454 - volk_loss: 8.5489 - sigma_val: 0.2067 - volk_val: 17.6793 - ricci_val: 7.5506\n"
     ]
    },
    {
     "name": "stdout",
     "output_type": "stream",
     "text": [
      "\n",
      "Epoch 28/30\n",
      " - Sigma measure val:      0.2067\n",
      " - Volk val:               17.6793\n",
      " - Ricci measure val:      7.5506\n",
      "701/704 [============================>.] - ETA: 0s - sigma_loss: 0.1473 - volk_loss: 0.0000e+00 - Sigma measure val:      0.2049\n",
      " - Volk val:               17.6238\n",
      " - Ricci measure val:      6.7866\n",
      "704/704 [==============================] - 16s 19ms/step - sigma_loss: 0.1473 - volk_loss: 0.0000e+00 - sigma_val: 0.2049 - volk_val: 17.6238 - ricci_val: 6.7866\n",
      " - Sigma measure val:      0.2049\n",
      " - Volk val:               17.6238\n",
      " - Ricci measure val:      6.7866\n",
      "1/1 [==============================] - ETA: 0s - sigma_loss: 0.1425 - volk_loss: 8.4455 - Sigma measure val:      0.2052\n",
      " - Volk val:               17.5705\n",
      " - Ricci measure val:      6.7535\n",
      "1/1 [==============================] - 14s 14s/step - sigma_loss: 0.1425 - volk_loss: 8.4455 - sigma_val: 0.2052 - volk_val: 17.5705 - ricci_val: 6.7535\n",
      "\n",
      "Epoch 29/30\n",
      " - Sigma measure val:      0.2052\n",
      " - Volk val:               17.5705\n",
      " - Ricci measure val:      6.7535\n",
      "700/704 [============================>.] - ETA: 0s - sigma_loss: 0.1460 - volk_loss: 0.0000e+00 - Sigma measure val:      0.2052\n",
      " - Volk val:               17.6026\n",
      " - Ricci measure val:      6.4479\n",
      "704/704 [==============================] - 15s 18ms/step - sigma_loss: 0.1459 - volk_loss: 0.0000e+00 - sigma_val: 0.2052 - volk_val: 17.6026 - ricci_val: 6.4479\n",
      " - Sigma measure val:      0.2052\n",
      " - Volk val:               17.6026\n",
      " - Ricci measure val:      6.4479\n",
      "1/1 [==============================] - ETA: 0s - sigma_loss: 0.1422 - volk_loss: 8.4461 - Sigma measure val:      0.2058\n",
      " - Volk val:               17.5710\n",
      " - Ricci measure val:      6.4706\n",
      "1/1 [==============================] - 13s 13s/step - sigma_loss: 0.1422 - volk_loss: 8.4461 - sigma_val: 0.2058 - volk_val: 17.5710 - ricci_val: 6.4706\n",
      "\n",
      "Epoch 30/30\n",
      " - Sigma measure val:      0.2058\n",
      " - Volk val:               17.5710\n",
      " - Ricci measure val:      6.4706\n",
      "703/704 [============================>.] - ETA: 0s - sigma_loss: 0.1441 - volk_loss: 0.0000e+00 - Sigma measure val:      0.2054\n",
      " - Volk val:               17.5988\n",
      " - Ricci measure val:      6.6769\n",
      "704/704 [==============================] - 23s 21ms/step - sigma_loss: 0.1441 - volk_loss: 0.0000e+00 - sigma_val: 0.2054 - volk_val: 17.5988 - ricci_val: 6.6769\n",
      " - Sigma measure val:      0.2054\n",
      " - Volk val:               17.5988\n",
      " - Ricci measure val:      6.6769\n",
      "1/1 [==============================] - ETA: 0s - sigma_loss: 0.1404 - volk_loss: 8.4268 - Sigma measure val:      0.2056\n",
      " - Volk val:               17.5007\n",
      " - Ricci measure val:      6.6600\n",
      "1/1 [==============================] - 14s 14s/step - sigma_loss: 0.1404 - volk_loss: 8.4268 - sigma_val: 0.2056 - volk_val: 17.5007 - ricci_val: 6.6600\n"
     ]
    }
   ],
   "source": [
    "os.environ['TF_CPP_MIN_LOG_LEVEL'] = '0'  # mostly silences TF logger\n",
    "fs_model, training_history = train_model(fs_model, data, epochs=n_epochs, batch_sizes=batch_sizes,\n",
    "                                         verbose=1, custom_metrics=cmetrics, callbacks=cb_list)"
   ]
  },
  {
   "cell_type": "markdown",
   "metadata": {},
   "source": [
    "Check the volume normailzation of our data"
   ]
  },
  {
   "cell_type": "code",
   "execution_count": 21,
   "metadata": {},
   "outputs": [
    {
     "name": "stdout",
     "output_type": "stream",
     "text": [
      "Vol_K from triple intersection numbers at t1=t2=1:                 20\n",
      "Vol_K from MC integration over FS metric in Kahler class t1=t2=1:  20.01\n",
      "Vol_K from MC integration over CY metric in Kahler class t1=t2=1:  17.83\n"
     ]
    }
   ],
   "source": [
    "dets_fs = np.real(tf.linalg.det(fs_model.fubini_study_pb(tf.cast(data['X_train'], tf.float32))).numpy())\n",
    "dets_cy = np.real(tf.linalg.det(fs_model(tf.cast(data['X_train'], tf.float32))).numpy())\n",
    "weights, omegas = data['y_train'][:,-2], data['y_train'][:,-1]\n",
    "vol_k_fs = np.mean(weights * dets_fs / omegas)\n",
    "vol_k_cy = np.mean(weights * dets_cy / omegas)\n",
    "print(\"Vol_K from triple intersection numbers at t1=t2=1:                \", toric_data['vol_j_norm'])\n",
    "print(\"Vol_K from MC integration over FS metric in Kahler class t1=t2=1: \", np.round(vol_k_fs, 2))\n",
    "print(\"Vol_K from MC integration over CY metric in Kahler class t1=t2=1: \", np.round(vol_k_cy, 2))"
   ]
  },
  {
   "cell_type": "markdown",
   "metadata": {},
   "source": [
    "... and look at the value of the Kahler potential"
   ]
  },
  {
   "cell_type": "code",
   "execution_count": 22,
   "metadata": {},
   "outputs": [
    {
     "data": {
      "text/plain": [
       "<tf.Tensor: shape=(10,), dtype=float32, numpy=\n",
       "array([0.2932871 , 0.44076732, 0.38761204, 0.6006561 , 0.3577083 ,\n",
       "       0.53522736, 0.40158698, 0.43403587, 0.24459185, 0.28800538],\n",
       "      dtype=float32)>"
      ]
     },
     "execution_count": 22,
     "metadata": {},
     "output_type": "execute_result"
    }
   ],
   "source": [
    "fs_model.get_kahler_potential(data['X_train'][:10])"
   ]
  },
  {
   "cell_type": "markdown",
   "metadata": {},
   "source": [
    "## Plot the results"
   ]
  },
  {
   "cell_type": "code",
   "execution_count": 23,
   "metadata": {},
   "outputs": [],
   "source": [
    "import matplotlib.pyplot as plt\n",
    "import seaborn as sns\n",
    "import pandas as pd\n",
    "sns.set_style(\"darkgrid\")"
   ]
  },
  {
   "cell_type": "markdown",
   "metadata": {},
   "source": [
    "Note that vol_k val should be constant (and equal to 20.0). So in this case, it is off by 15%)"
   ]
  },
  {
   "cell_type": "code",
   "execution_count": 24,
   "metadata": {
    "scrolled": false
   },
   "outputs": [
    {
     "data": {
      "image/png": "[encoded data removed]",
      "text/plain": [
       "<Figure size 720x360 with 2 Axes>"
      ]
     },
     "metadata": {},
     "output_type": "display_data"
    }
   ],
   "source": [
    "hist = training_history\n",
    "hist['epochs'] = list(range(n_epochs))\n",
    "hist_data = pd.DataFrame(hist)\n",
    "fig, [ax1, ax2] = plt.subplots(1, 2, figsize=(10,5));\n",
    "ax1.set_title(\"Monge-Ampere loss\")\n",
    "sns.scatterplot(x='epochs', y='sigma_loss', data=hist_data, alpha=0.75, ax=ax1, label=\"train\")\n",
    "sns.scatterplot(x='epochs', y='sigma_val', data=hist_data, alpha=0.75, ax=ax1, label=\"val\")\n",
    "\n",
    "ax2.set_title(\"Vol_K value of validation set\")\n",
    "sns.scatterplot(x='epochs', y='volk_val', data=hist_data, alpha=0.75, ax=ax2, label=\"val\");"
   ]
  },
  {
   "cell_type": "code",
   "execution_count": null,
   "metadata": {},
   "outputs": [],
   "source": []
  }
 ],
 "metadata": {
  "kernelspec": {
   "display_name": "venv-ml",
   "language": "python",
   "name": "venv-ml"
  },
  "language": "python",
  "language_info": {
   "codemirror_mode": {
    "name": "ipython",
    "version": 3
   },
   "file_extension": ".py",
   "mimetype": "text/x-python",
   "name": "python",
   "nbconvert_exporter": "python",
   "pygments_lexer": "ipython3",
   "version": "3.8.9"
  }
 },
 "nbformat": 4,
 "nbformat_minor": 2
}
